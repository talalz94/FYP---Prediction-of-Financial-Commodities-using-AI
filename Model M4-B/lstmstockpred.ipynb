{
  "nbformat": 4,
  "nbformat_minor": 0,
  "metadata": {
    "colab": {
      "name": "lstmstockpred.ipynb",
      "version": "0.3.2",
      "provenance": [],
      "collapsed_sections": [
        "6wb-kbHcZJEZ",
        "TpBFSXrvZJEr",
        "nSUMeAIYZJFQ",
        "e3Tz9KJZZJFf",
        "e7zoVPXxZJGh"
      ],
      "toc_visible": true
    },
    "language_info": {
      "codemirror_mode": {
        "name": "ipython",
        "version": 3
      },
      "file_extension": ".py",
      "mimetype": "text/x-python",
      "name": "python",
      "nbconvert_exporter": "python",
      "pygments_lexer": "ipython3",
      "version": "3.6.7"
    },
    "kernelspec": {
      "name": "python3",
      "display_name": "Python 3"
    },
    "accelerator": "GPU"
  },
  "cells": [
    {
      "cell_type": "markdown",
      "metadata": {
        "id": "I14HOi6CZJDH",
        "colab_type": "text"
      },
      "source": [
        "# Objective\n",
        "* 20190102: \n",
        "    * Predict stock price in next day using long short term memory(LSTM)\n",
        "    * Given prices for the last N days, we do prediction for day N+1\n",
        "    * Here we split 3 years of data into train(60%), dev(20%) and test(20%)\n",
        "* 20190120 - Diff from SotckPricePrediction_v4_lstm.ipynb: \n",
        "    * Instead of MinMaxScaler, here we use StandardScaler\n",
        "    * Instead of using the same mean and variance to do scaling for train, dev and test sets, we scale the train set to have mean 0 and var 1, and then whenever we do prediction on dev or test set we scale the previous N values to also have mean 0 and var 1 (ie. use the means and variances of the previous N values to do scaling. We do this for both feature columns and target columns)"
      ]
    },
    {
      "cell_type": "code",
      "metadata": {
        "id": "rwudtEw2ZJDJ",
        "colab_type": "code",
        "outputId": "b40a11f3-4e45-442d-9b07-65053f108a1b",
        "colab": {
          "base_uri": "https://localhost:8080/",
          "height": 34
        }
      },
      "source": [
        "%matplotlib inline\n",
        "\n",
        "import math\n",
        "import matplotlib\n",
        "import numpy as np\n",
        "import pandas as pd\n",
        "import seaborn as sns\n",
        "import time\n",
        "\n",
        "from datetime import date\n",
        "from matplotlib import pyplot as plt\n",
        "from numpy.random import seed\n",
        "from pylab import rcParams\n",
        "from sklearn.metrics import mean_squared_error\n",
        "from tqdm import tqdm_notebook\n",
        "from sklearn.preprocessing import StandardScaler\n",
        "from tensorflow import set_random_seed\n",
        "from keras.models import Sequential\n",
        "from keras.layers import Dense, Dropout, LSTM\n",
        "from keras.utils import plot_model\n",
        "\n",
        "#### Input params ##################\n",
        "stk_path = \"ouput.csv\"\n",
        "test_size = 0.2                # proportion of dataset to be used as test set\n",
        "cv_size = 0.2                  # proportion of dataset to be used as cross-validation set\n",
        "\n",
        "N = 9                          # for feature at day t, we use lags from t-1, t-2, ..., t-N as features. \n",
        "                               # initial value before tuning\n",
        "lstm_units=50                  # lstm param. initial value before tuning.\n",
        "dropout_prob=1                 # lstm param. initial value before tuning.\n",
        "optimizer='adam'               # lstm param. initial value before tuning.\n",
        "epochs=1                       # lstm param. initial value before tuning.\n",
        "batch_size=1                   # lstm param. initial value before tuning.\n",
        "\n",
        "model_seed = 100\n",
        "\n",
        "fontsize = 14\n",
        "ticklabelsize = 14\n",
        "####################################\n",
        "\n",
        "# Set seeds to ensure same output results\n",
        "seed(101)\n",
        "set_random_seed(model_seed)"
      ],
      "execution_count": 0,
      "outputs": [
        {
          "output_type": "stream",
          "text": [
            "Using TensorFlow backend.\n"
          ],
          "name": "stderr"
        }
      ]
    },
    {
      "cell_type": "markdown",
      "metadata": {
        "id": "byfp2sHOZJDO",
        "colab_type": "text"
      },
      "source": [
        "# Common functions"
      ]
    },
    {
      "cell_type": "code",
      "metadata": {
        "id": "eoDPjW4-ZJDP",
        "colab_type": "code",
        "colab": {}
      },
      "source": [
        "def get_mape(y_true, y_pred): \n",
        "    \"\"\"\n",
        "    Compute mean absolute percentage error (MAPE)\n",
        "    \"\"\"\n",
        "    y_true, y_pred = np.array(y_true), np.array(y_pred)\n",
        "    return np.mean(np.abs((y_true - y_pred) / y_true)) * 100\n",
        "\n",
        "def get_x_y(data, N, offset):\n",
        "    \"\"\"\n",
        "    Split data into x (features) and y (target)\n",
        "    \"\"\"\n",
        "    x, y = [], []\n",
        "    for i in range(offset, len(data)):\n",
        "        x.append(data[i-N:i])\n",
        "        y.append(data[i])\n",
        "    x = np.array(x)\n",
        "    y = np.array(y)\n",
        "    \n",
        "    return x, y\n",
        "\n",
        "def get_x_scaled_y(data, N, offset):\n",
        "    \"\"\"\n",
        "    Split data into x (features) and y (target)\n",
        "    We scale x to have mean 0 and std dev 1, and return this.\n",
        "    We do not scale y here.\n",
        "    Inputs\n",
        "        data     : pandas series to extract x and y\n",
        "        N\n",
        "        offset\n",
        "    Outputs\n",
        "        x_scaled : features used to predict y. Scaled such that each element has mean 0 and std dev 1\n",
        "        y        : target values. Not scaled\n",
        "        mu_list  : list of the means. Same length as x_scaled and y\n",
        "        std_list : list of the std devs. Same length as x_scaled and y\n",
        "    \"\"\"\n",
        "    x_scaled, y, mu_list, std_list = [], [], [], []\n",
        "    for i in range(offset, len(data)):\n",
        "        mu_list.append(np.mean(data[i-N:i]))\n",
        "        std_list.append(np.std(data[i-N:i]))\n",
        "        x_scaled.append((data[i-N:i]-mu_list[i-offset])/std_list[i-offset])\n",
        "        y.append(data[i])\n",
        "    x_scaled = np.array(x_scaled)\n",
        "    y = np.array(y)\n",
        "    \n",
        "    return x_scaled, y, mu_list, std_list\n",
        "\n",
        "def train_pred_eval_model(x_train_scaled, \\\n",
        "                          y_train_scaled, \\\n",
        "                          x_cv_scaled, \\\n",
        "                          y_cv, \\\n",
        "                          mu_cv_list, \\\n",
        "                          std_cv_list, \\\n",
        "                          lstm_units=50, \\\n",
        "                          dropout_prob=0.5, \\\n",
        "                          optimizer='adam', \\\n",
        "                          epochs=1, \\\n",
        "                          batch_size=1):\n",
        "    '''\n",
        "    Train model, do prediction, scale back to original range and do evaluation\n",
        "    Use LSTM here.\n",
        "    Returns rmse, mape and predicted values\n",
        "    Inputs\n",
        "        x_train_scaled  : e.g. x_train_scaled.shape=(451, 9, 1). Here we are using the past 9 values to predict the next value\n",
        "        y_train_scaled  : e.g. y_train_scaled.shape=(451, 1)\n",
        "        x_cv_scaled     : use this to do predictions \n",
        "        y_cv            : actual value of the predictions\n",
        "        mu_cv_list      : list of the means. Same length as x_scaled and y\n",
        "        std_cv_list     : list of the std devs. Same length as x_scaled and y \n",
        "        lstm_units      : lstm param\n",
        "        dropout_prob    : lstm param\n",
        "        optimizer       : lstm param\n",
        "        epochs          : lstm param\n",
        "        batch_size      : lstm param\n",
        "    Outputs\n",
        "        rmse            : root mean square error\n",
        "        mape            : mean absolute percentage error\n",
        "        est             : predictions\n",
        "    '''\n",
        "    # Create the LSTM network\n",
        "    model = Sequential()\n",
        "    model.add(LSTM(units=lstm_units, return_sequences=True, input_shape=(x_train_scaled.shape[1],1)))\n",
        "    model.add(Dropout(dropout_prob)) # Add dropout with a probability of 0.5\n",
        "    model.add(LSTM(units=lstm_units))\n",
        "    model.add(Dropout(dropout_prob)) # Add dropout with a probability of 0.5\n",
        "    model.add(Dense(1))\n",
        "\n",
        "    # Compile and fit the LSTM network\n",
        "    model.compile(loss='mean_squared_error', optimizer=optimizer)\n",
        "    model.fit(x_train_scaled, y_train_scaled, epochs=epochs, batch_size=batch_size, verbose=0)\n",
        "    \n",
        "    # Do prediction\n",
        "    est_scaled = model.predict(x_cv_scaled)\n",
        "    est = (est_scaled * np.array(std_cv_list).reshape(-1,1)) + np.array(mu_cv_list).reshape(-1,1)\n",
        "    \n",
        "    # Calculate RMSE and MAPE\n",
        "#     print(\"x_cv_scaled = \" + str(x_cv_scaled))\n",
        "#     print(\"est_scaled = \" + str(est_scaled))\n",
        "#     print(\"est = \" + str(est))\n",
        "    rmse = math.sqrt(mean_squared_error(y_cv, est))\n",
        "    mape = get_mape(y_cv, est)\n",
        "    \n",
        "    return rmse, mape, est"
      ],
      "execution_count": 0,
      "outputs": []
    },
    {
      "cell_type": "markdown",
      "metadata": {
        "id": "nmnet7RkZJDS",
        "colab_type": "text"
      },
      "source": [
        "# Load data"
      ]
    },
    {
      "cell_type": "code",
      "metadata": {
        "id": "_3z2E4G_ZJDU",
        "colab_type": "code",
        "outputId": "474c1b42-bae1-424f-acc1-0031f3c79f11",
        "colab": {
          "base_uri": "https://localhost:8080/",
          "height": 326
        }
      },
      "source": [
        "df = pd.read_csv('output.csv')\n",
        "\n",
        "# Convert Date column to datetime\n",
        "df.loc[:, 'date'] = pd.to_datetime(df['date'],format='%Y-%m-%d')\n",
        "\n",
        "# Change all column headings to be lower case, and remove spacing\n",
        "df.columns = [str(x).lower().replace(' ', '_') for x in df.columns]\n",
        "\n",
        "# Get month of each sample\n",
        "df['month'] = df['date'].dt.month\n",
        "\n",
        "# Sort by datetime\n",
        "df.sort_values(by='date', inplace=True, ascending=True)\n",
        "\n",
        "df.head()\n",
        "\n"
      ],
      "execution_count": 0,
      "outputs": [
        {
          "output_type": "execute_result",
          "data": {
            "text/html": [
              "<div>\n",
              "<style scoped>\n",
              "    .dataframe tbody tr th:only-of-type {\n",
              "        vertical-align: middle;\n",
              "    }\n",
              "\n",
              "    .dataframe tbody tr th {\n",
              "        vertical-align: top;\n",
              "    }\n",
              "\n",
              "    .dataframe thead th {\n",
              "        text-align: right;\n",
              "    }\n",
              "</style>\n",
              "<table border=\"1\" class=\"dataframe\">\n",
              "  <thead>\n",
              "    <tr style=\"text-align: right;\">\n",
              "      <th></th>\n",
              "      <th>date</th>\n",
              "      <th>close</th>\n",
              "      <th>close_12_ema</th>\n",
              "      <th>close_26_ema</th>\n",
              "      <th>macd</th>\n",
              "      <th>macds</th>\n",
              "      <th>macdh</th>\n",
              "      <th>close_20_sma</th>\n",
              "      <th>close_20_mstd</th>\n",
              "      <th>boll</th>\n",
              "      <th>boll_ub</th>\n",
              "      <th>boll_lb</th>\n",
              "      <th>close_-1_s</th>\n",
              "      <th>close_-1_d</th>\n",
              "      <th>rs_12</th>\n",
              "      <th>rsi_12</th>\n",
              "      <th>rsi</th>\n",
              "      <th>price-change</th>\n",
              "      <th>change</th>\n",
              "      <th>month</th>\n",
              "    </tr>\n",
              "  </thead>\n",
              "  <tbody>\n",
              "    <tr>\n",
              "      <th>0</th>\n",
              "      <td>2004-08-20</td>\n",
              "      <td>54.3227</td>\n",
              "      <td>52.489413</td>\n",
              "      <td>52.399671</td>\n",
              "      <td>0.089741</td>\n",
              "      <td>0.049856</td>\n",
              "      <td>0.079770</td>\n",
              "      <td>52.322750</td>\n",
              "      <td>2.828356</td>\n",
              "      <td>52.322750</td>\n",
              "      <td>57.979463</td>\n",
              "      <td>46.666037</td>\n",
              "      <td>50.3228</td>\n",
              "      <td>3.9999</td>\n",
              "      <td>inf</td>\n",
              "      <td>100.000000</td>\n",
              "      <td>100.000000</td>\n",
              "      <td>3.9999</td>\n",
              "      <td>1.0</td>\n",
              "      <td>8</td>\n",
              "    </tr>\n",
              "    <tr>\n",
              "      <th>1</th>\n",
              "      <td>2004-08-23</td>\n",
              "      <td>54.8694</td>\n",
              "      <td>53.418322</td>\n",
              "      <td>53.287021</td>\n",
              "      <td>0.131301</td>\n",
              "      <td>0.083235</td>\n",
              "      <td>0.096132</td>\n",
              "      <td>53.171633</td>\n",
              "      <td>2.482259</td>\n",
              "      <td>53.171633</td>\n",
              "      <td>58.136151</td>\n",
              "      <td>48.207116</td>\n",
              "      <td>54.3227</td>\n",
              "      <td>0.5467</td>\n",
              "      <td>inf</td>\n",
              "      <td>100.000000</td>\n",
              "      <td>100.000000</td>\n",
              "      <td>0.5467</td>\n",
              "      <td>1.0</td>\n",
              "      <td>8</td>\n",
              "    </tr>\n",
              "    <tr>\n",
              "      <th>2</th>\n",
              "      <td>2004-08-24</td>\n",
              "      <td>52.5974</td>\n",
              "      <td>53.159189</td>\n",
              "      <td>53.094233</td>\n",
              "      <td>0.064956</td>\n",
              "      <td>0.077043</td>\n",
              "      <td>-0.024174</td>\n",
              "      <td>53.028075</td>\n",
              "      <td>2.046992</td>\n",
              "      <td>53.028075</td>\n",
              "      <td>57.122058</td>\n",
              "      <td>48.934092</td>\n",
              "      <td>54.8694</td>\n",
              "      <td>-2.2720</td>\n",
              "      <td>1.699898</td>\n",
              "      <td>62.961567</td>\n",
              "      <td>62.961567</td>\n",
              "      <td>-2.2720</td>\n",
              "      <td>0.0</td>\n",
              "      <td>8</td>\n",
              "    </tr>\n",
              "    <tr>\n",
              "      <th>3</th>\n",
              "      <td>2004-08-25</td>\n",
              "      <td>53.1641</td>\n",
              "      <td>53.160523</td>\n",
              "      <td>53.110435</td>\n",
              "      <td>0.050088</td>\n",
              "      <td>0.069025</td>\n",
              "      <td>-0.037873</td>\n",
              "      <td>53.055280</td>\n",
              "      <td>1.773790</td>\n",
              "      <td>53.055280</td>\n",
              "      <td>56.602861</td>\n",
              "      <td>49.507699</td>\n",
              "      <td>52.5974</td>\n",
              "      <td>0.5667</td>\n",
              "      <td>1.972001</td>\n",
              "      <td>66.352639</td>\n",
              "      <td>66.352639</td>\n",
              "      <td>0.5667</td>\n",
              "      <td>1.0</td>\n",
              "      <td>8</td>\n",
              "    </tr>\n",
              "    <tr>\n",
              "      <th>4</th>\n",
              "      <td>2004-08-26</td>\n",
              "      <td>54.1221</td>\n",
              "      <td>53.394237</td>\n",
              "      <td>53.313064</td>\n",
              "      <td>0.081173</td>\n",
              "      <td>0.072318</td>\n",
              "      <td>0.017711</td>\n",
              "      <td>53.233083</td>\n",
              "      <td>1.645220</td>\n",
              "      <td>53.233083</td>\n",
              "      <td>56.523524</td>\n",
              "      <td>49.942643</td>\n",
              "      <td>53.1641</td>\n",
              "      <td>0.9580</td>\n",
              "      <td>2.473806</td>\n",
              "      <td>71.213126</td>\n",
              "      <td>71.213126</td>\n",
              "      <td>0.9580</td>\n",
              "      <td>1.0</td>\n",
              "      <td>8</td>\n",
              "    </tr>\n",
              "  </tbody>\n",
              "</table>\n",
              "</div>"
            ],
            "text/plain": [
              "        date    close  close_12_ema  ...  price-change  change  month\n",
              "0 2004-08-20  54.3227     52.489413  ...        3.9999     1.0      8\n",
              "1 2004-08-23  54.8694     53.418322  ...        0.5467     1.0      8\n",
              "2 2004-08-24  52.5974     53.159189  ...       -2.2720     0.0      8\n",
              "3 2004-08-25  53.1641     53.160523  ...        0.5667     1.0      8\n",
              "4 2004-08-26  54.1221     53.394237  ...        0.9580     1.0      8\n",
              "\n",
              "[5 rows x 20 columns]"
            ]
          },
          "metadata": {
            "tags": []
          },
          "execution_count": 3
        }
      ]
    },
    {
      "cell_type": "code",
      "metadata": {
        "id": "tGpDTH13ZJDb",
        "colab_type": "code",
        "outputId": "b657eeb6-372d-49c0-8119-c6eb0c51cb3c",
        "colab": {
          "base_uri": "https://localhost:8080/",
          "height": 485
        }
      },
      "source": [
        "# Plot adjusted close over time\n",
        "rcParams['figure.figsize'] = 10, 8 # width 10, height 8\n",
        "\n",
        "ax = df.plot(x='date', y='close', style='b-', grid=True)\n",
        "ax.set_xlabel(\"date\")\n",
        "ax.set_ylabel(\"USD\")"
      ],
      "execution_count": 0,
      "outputs": [
        {
          "output_type": "execute_result",
          "data": {
            "text/plain": [
              "Text(0, 0.5, 'USD')"
            ]
          },
          "metadata": {
            "tags": []
          },
          "execution_count": 4
        },
        {
          "output_type": "display_data",
          "data": {
            "image/png": "[encoded data removed]",
            "text/plain": [
              "<Figure size 720x576 with 1 Axes>"
            ]
          },
          "metadata": {
            "tags": []
          }
        }
      ]
    },
    {
      "cell_type": "markdown",
      "metadata": {
        "id": "QunRF56HZJDd",
        "colab_type": "text"
      },
      "source": [
        "# Split into train, dev and test sets"
      ]
    },
    {
      "cell_type": "markdown",
      "metadata": {
        "id": "ysMYMvROZJDe",
        "colab_type": "text"
      },
      "source": [
        "We use lags up to N number of days to use as features."
      ]
    },
    {
      "cell_type": "code",
      "metadata": {
        "id": "5caG1yz7ZJDh",
        "colab_type": "code",
        "outputId": "e088cf05-3b01-474f-bc10-c98f7e260fd7",
        "colab": {
          "base_uri": "https://localhost:8080/",
          "height": 1309
        }
      },
      "source": [
        "# Get sizes of each of the datasets\n",
        "num_cv = int(cv_size*len(df))\n",
        "num_test = int(test_size*len(df))\n",
        "num_train = len(df) - num_cv - num_test\n",
        "print(\"num_train = \" + str(num_train))\n",
        "print(\"num_cv = \" + str(num_cv))\n",
        "print(\"num_test = \" + str(num_test))\n",
        "print(df.columns)\n",
        "# Split into train, cv, and test\n",
        "train = df[:num_train][['date', 'close','macd','boll','rsi','change']]\n",
        "cv = df[num_train:num_train+num_cv][['date', 'close','macd','boll','rsi','change']]\n",
        "train_cv = df[:num_train+num_cv][['date', 'close','macd','boll','rsi','change']]\n",
        "test = df[num_train+num_cv:][['date', 'close','macd','boll','rsi','change']]\n",
        "\n",
        "print(\"train.shape = \" + str(train.shape))\n",
        "print(\"cv.shape = \" + str(cv.shape))\n",
        "print(\"train_cv.shape = \" + str(train_cv.shape))\n",
        "print(\"test.shape = \" + str(test.shape))\n",
        "print(train)"
      ],
      "execution_count": 0,
      "outputs": [
        {
          "output_type": "stream",
          "text": [
            "num_train = 2224\n",
            "num_cv = 740\n",
            "num_test = 740\n",
            "Index(['date', 'close', 'close_12_ema', 'close_26_ema', 'macd', 'macds',\n",
            "       'macdh', 'close_20_sma', 'close_20_mstd', 'boll', 'boll_ub', 'boll_lb',\n",
            "       'close_-1_s', 'close_-1_d', 'rs_12', 'rsi_12', 'rsi', 'price-change',\n",
            "       'change', 'month'],\n",
            "      dtype='object')\n",
            "train.shape = (2224, 6)\n",
            "cv.shape = (740, 6)\n",
            "train_cv.shape = (2964, 6)\n",
            "test.shape = (740, 6)\n",
            "           date     close       macd        boll         rsi  change\n",
            "0    2004-08-20   54.3227   0.089741   52.322750  100.000000     1.0\n",
            "1    2004-08-23   54.8694   0.131301   53.171633  100.000000     1.0\n",
            "2    2004-08-24   52.5974   0.064956   53.028075   62.961567     0.0\n",
            "3    2004-08-25   53.1641   0.050088   53.055280   66.352639     1.0\n",
            "4    2004-08-26   54.1221   0.081173   53.233083   71.213126     1.0\n",
            "5    2004-08-27   53.2393   0.059718   53.233971   62.183145     0.0\n",
            "6    2004-08-30   51.1629  -0.054382   52.975088   46.917930     0.0\n",
            "7    2004-08-31   51.3435  -0.123606   52.793800   48.126226     1.0\n",
            "8    2004-09-01   50.2802  -0.225683   52.542440   41.987575     0.0\n",
            "9    2004-09-02   50.9122  -0.262611   52.394236   46.419079     1.0\n",
            "10   2004-09-03   50.1598  -0.327441   52.208033   42.229536     0.0\n",
            "11   2004-09-07   50.9473  -0.326694   52.111054   47.626754     1.0\n",
            "12   2004-09-08   51.3084  -0.300963   52.053721   49.965069     1.0\n",
            "13   2004-09-09   51.3134  -0.277421   52.004367   49.998790     1.0\n",
            "14   2004-09-10   52.8281  -0.164205   52.055850   59.106877     1.0\n",
            "15   2004-09-13   53.9164  -0.008475   52.165294   64.215998     1.0\n",
            "16   2004-09-14   55.9176   0.237068   52.373756   71.387130     1.0\n",
            "17   2004-09-15   56.1734   0.439296   52.573737   72.164968     1.0\n",
            "18   2004-09-16   57.1615   0.654271   52.803125   75.025894     1.0\n",
            "19   2004-09-17   58.9269   0.929321   53.233330   79.193964     1.0\n",
            "20   2004-09-20   59.8648   1.194106   53.510435   81.028971     1.0\n",
            "21   2004-09-21   59.1024   1.333507   53.722085   75.151367     0.0\n",
            "22   2004-09-22   59.3733   1.444661   54.060880   75.830938     1.0\n",
            "23   2004-09-23   60.5971   1.599172   54.432530   78.701523     1.0\n",
            "24   2004-09-24   60.1005   1.665841   54.731450   74.770326     0.0\n",
            "25   2004-09-27   59.3131   1.642507   55.035140   68.823872     0.0\n",
            "26   2004-09-28   63.6264   1.913590   55.658315   78.867373     1.0\n",
            "27   2004-09-29   65.7429   2.255415   56.378285   81.975650     1.0\n",
            "28   2004-09-30   65.0007   2.442182   57.114310   77.608798     0.0\n",
            "29   2004-10-01   66.4953   2.669067   57.893465   79.954598     1.0\n",
            "...         ...       ...        ...         ...         ...     ...\n",
            "2194 2013-05-09  437.0893   8.917075  409.989655   72.595774     0.0\n",
            "2195 2013-05-10  441.4778   9.825478  412.251135   74.777648     1.0\n",
            "2196 2013-05-13  440.1236  10.317191  414.648535   72.825771     0.0\n",
            "2197 2013-05-14  444.9234  10.967751  416.999040   75.316968     1.0\n",
            "2198 2013-05-15  459.3630  12.504338  420.342610   81.025674     1.0\n",
            "2199 2013-05-16  453.3344  13.084803  423.802190   73.303915     0.0\n",
            "2200 2013-05-17  455.9976  13.602917  426.543400   74.476153     1.0\n",
            "2201 2013-05-20  455.6716  13.827823  429.262190   74.041994     0.0\n",
            "2202 2013-05-21  454.8892  13.784035  431.746610   72.928903     0.0\n",
            "2203 2013-05-22  446.0870  12.890476  433.651640   61.569197     0.0\n",
            "2204 2013-05-23  442.7618  11.778236  435.499595   57.855334     0.0\n",
            "2205 2013-05-24  438.0121  10.393704  437.302660   52.884515     0.0\n",
            "2206 2013-05-28  441.9994   9.508585  438.862725   56.321323     1.0\n",
            "2207 2013-05-29  435.4993   8.188230  439.959610   49.854043     0.0\n",
            "2208 2013-05-30  436.7281   7.158474  441.221755   51.014075     1.0\n",
            "2209 2013-05-31  436.9578   6.288431  442.265175   51.244076     1.0\n",
            "2210 2013-06-03  435.1583   5.391561  442.814620   49.267128     0.0\n",
            "2211 2013-06-04  430.8801   4.286161  442.753180   44.785962     0.0\n",
            "2212 2013-06-05  431.1810   3.395265  442.815120   45.168621     1.0\n",
            "2213 2013-06-06  433.6587   2.856229  442.589675   48.382122     1.0\n",
            "2214 2013-06-07  441.2270   3.005097  442.796560   56.815723     1.0\n",
            "2215 2013-06-10  446.4883   3.507190  443.047085   61.576649     1.0\n",
            "2216 2013-06-11  441.2671   3.444093  443.104260   55.010953     0.0\n",
            "2217 2013-06-12  437.3400   3.042137  442.725090   50.585282     0.0\n",
            "2218 2013-06-13  439.8578   2.893396  441.749830   53.217669     1.0\n",
            "2219 2013-06-14  438.8748   2.665472  441.026850   52.037004     0.0\n",
            "2220 2013-06-17  444.4971   2.905025  440.451825   57.869050     1.0\n",
            "2221 2013-06-18  451.7044   3.634545  440.253465   63.992000     1.0\n",
            "2222 2013-06-19  451.7345   4.167089  440.095730   64.015827     1.0\n",
            "2223 2013-06-20  443.7398   3.899081  439.978370   53.716946     0.0\n",
            "\n",
            "[2224 rows x 6 columns]\n"
          ],
          "name": "stdout"
        }
      ]
    },
    {
      "cell_type": "code",
      "metadata": {
        "id": "_Wzf9-5EZJDp",
        "colab_type": "code",
        "outputId": "13747cc6-6556-4874-ba8e-ff0234d541c5",
        "colab": {
          "base_uri": "https://localhost:8080/",
          "height": 85
        }
      },
      "source": [
        "# Converting dataset into x_train and y_train\n",
        "# Here we only scale the train dataset, and not the entire dataset to prevent information leak\n",
        "scaler = StandardScaler()\n",
        "train_scaled = scaler.fit_transform(np.array(train['close']).reshape(-1,1))\n",
        "print(\"scaler.mean_ = \" + str(scaler.mean_))\n",
        "print(\"scaler.var_ = \" + str(scaler.var_))\n",
        "\n",
        "# Split into x and y\n",
        "x_train_scaled, y_train_scaled = get_x_y(train_scaled, N, N)\n",
        "print(\"x_train_scaled.shape = \" + str(x_train_scaled.shape)) # (446, 7, 1)\n",
        "print(\"y_train_scaled.shape = \" + str(y_train_scaled.shape)) # (446, 1)"
      ],
      "execution_count": 0,
      "outputs": [
        {
          "output_type": "stream",
          "text": [
            "scaler.mean_ = [244.88507918]\n",
            "scaler.var_ = [6272.51602608]\n",
            "x_train_scaled.shape = (2215, 9, 1)\n",
            "y_train_scaled.shape = (2215, 1)\n"
          ],
          "name": "stdout"
        }
      ]
    },
    {
      "cell_type": "code",
      "metadata": {
        "scrolled": true,
        "id": "uJGbdrmMZJDs",
        "colab_type": "code",
        "outputId": "1013e04d-6814-445d-cc07-cfdccece2300",
        "colab": {
          "base_uri": "https://localhost:8080/",
          "height": 85
        }
      },
      "source": [
        "# Scale the cv dataset\n",
        "# Split into x and y\n",
        "x_cv_scaled, y_cv, mu_cv_list, std_cv_list = get_x_scaled_y(np.array(train_cv['close']).reshape(-1,1), N, num_train)\n",
        "print(\"x_cv_scaled.shape = \" + str(x_cv_scaled.shape))\n",
        "print(\"y_cv.shape = \" + str(y_cv.shape))\n",
        "print(\"len(mu_cv_list) = \" + str(len(mu_cv_list)))\n",
        "print(\"len(std_cv_list) = \" + str(len(std_cv_list)))"
      ],
      "execution_count": 0,
      "outputs": [
        {
          "output_type": "stream",
          "text": [
            "x_cv_scaled.shape = (740, 9, 1)\n",
            "y_cv.shape = (740, 1)\n",
            "len(mu_cv_list) = 740\n",
            "len(std_cv_list) = 740\n"
          ],
          "name": "stdout"
        }
      ]
    },
    {
      "cell_type": "code",
      "metadata": {
        "id": "NUax0tXJZJD1",
        "colab_type": "code",
        "outputId": "d5c430be-014c-4ea0-9c4c-ba7d1e4e155c",
        "colab": {
          "base_uri": "https://localhost:8080/",
          "height": 51
        }
      },
      "source": [
        "# Here we scale the train_cv set, for the final model\n",
        "scaler_final = StandardScaler()\n",
        "train_cv_scaled_final = scaler_final.fit_transform(np.array(train_cv['close']).reshape(-1,1))\n",
        "print(\"scaler_final.mean_ = \" + str(scaler_final.mean_))\n",
        "print(\"scaler_final.var_ = \" + str(scaler_final.var_))\n",
        "\n",
        "# # Scale the test dataset\n",
        "# x_test_scaled, y_test, mu_test_list, std_test_list = get_x_scaled_y(np.array(df['close']).reshape(-1,1), N, num_train+num_cv)\n",
        "# print(\"x_test_scaled.shape = \" + str(x_test_scaled.shape))\n",
        "# print(\"y_test.shape = \" + str(y_test.shape))\n",
        "# print(\"len(mu_test_list) = \" + str(len(mu_test_list)))\n",
        "# print(\"len(std_test_list) = \" + str(len(std_test_list)))"
      ],
      "execution_count": 0,
      "outputs": [
        {
          "output_type": "stream",
          "text": [
            "scaler_final.mean_ = [331.68688792]\n",
            "scaler_final.var_ = [29612.50132106]\n"
          ],
          "name": "stdout"
        }
      ]
    },
    {
      "cell_type": "markdown",
      "metadata": {
        "id": "bYK0jbuDZJD5",
        "colab_type": "text"
      },
      "source": [
        "# Create and fit the LSTM network"
      ]
    },
    {
      "cell_type": "code",
      "metadata": {
        "id": "7DFFyjC4ZJD7",
        "colab_type": "code",
        "outputId": "17596f0d-f2ff-4206-ebb2-144b8c940f1d",
        "colab": {
          "base_uri": "https://localhost:8080/",
          "height": 190
        }
      },
      "source": [
        "# Create the LSTM network\n",
        "model = Sequential()\n",
        "model.add(LSTM(units=lstm_units, return_sequences=True, input_shape=(x_train_scaled.shape[1],1)))\n",
        "model.add(Dropout(dropout_prob)) # Add dropout with a probability of 0.5\n",
        "model.add(LSTM(units=lstm_units))\n",
        "model.add(Dropout(dropout_prob)) # Add dropout with a probability of 0.5\n",
        "model.add(Dense(1))\n",
        "\n",
        "model.compile(loss='mean_squared_error', optimizer=optimizer)\n",
        "model.fit(x_train_scaled, y_train_scaled, epochs=epochs, batch_size=batch_size, verbose=2)"
      ],
      "execution_count": 0,
      "outputs": [
        {
          "output_type": "stream",
          "text": [
            "WARNING:tensorflow:From /usr/local/lib/python3.6/dist-packages/tensorflow/python/framework/op_def_library.py:263: colocate_with (from tensorflow.python.framework.ops) is deprecated and will be removed in a future version.\n",
            "Instructions for updating:\n",
            "Colocations handled automatically by placer.\n",
            "WARNING:tensorflow:From /usr/local/lib/python3.6/dist-packages/tensorflow/python/ops/math_ops.py:3066: to_int32 (from tensorflow.python.ops.math_ops) is deprecated and will be removed in a future version.\n",
            "Instructions for updating:\n",
            "Use tf.cast instead.\n",
            "Epoch 1/1\n",
            " - 59s - loss: 0.0264\n"
          ],
          "name": "stdout"
        },
        {
          "output_type": "execute_result",
          "data": {
            "text/plain": [
              "<keras.callbacks.History at 0x7f2ee95a4128>"
            ]
          },
          "metadata": {
            "tags": []
          },
          "execution_count": 9
        }
      ]
    },
    {
      "cell_type": "code",
      "metadata": {
        "id": "TnE2uJkuZJD-",
        "colab_type": "code",
        "outputId": "4fad214c-b134-4dd7-e34a-ce4519ec1790",
        "colab": {
          "base_uri": "https://localhost:8080/",
          "height": 306
        }
      },
      "source": [
        "# Print model summary\n",
        "model.summary()"
      ],
      "execution_count": 0,
      "outputs": [
        {
          "output_type": "stream",
          "text": [
            "_________________________________________________________________\n",
            "Layer (type)                 Output Shape              Param #   \n",
            "=================================================================\n",
            "lstm_1 (LSTM)                (None, 9, 50)             10400     \n",
            "_________________________________________________________________\n",
            "dropout_1 (Dropout)          (None, 9, 50)             0         \n",
            "_________________________________________________________________\n",
            "lstm_2 (LSTM)                (None, 50)                20200     \n",
            "_________________________________________________________________\n",
            "dropout_2 (Dropout)          (None, 50)                0         \n",
            "_________________________________________________________________\n",
            "dense_1 (Dense)              (None, 1)                 51        \n",
            "=================================================================\n",
            "Total params: 30,651\n",
            "Trainable params: 30,651\n",
            "Non-trainable params: 0\n",
            "_________________________________________________________________\n"
          ],
          "name": "stdout"
        }
      ]
    },
    {
      "cell_type": "code",
      "metadata": {
        "id": "Isq9hFpOZJEB",
        "colab_type": "code",
        "outputId": "a0ccc7e9-b32f-4e88-a0d3-fe10c90c9e13",
        "colab": {
          "base_uri": "https://localhost:8080/",
          "height": 568
        }
      },
      "source": [
        "# Plot model and save to file\n",
        "from IPython.display import SVG\n",
        "from keras.utils import plot_model\n",
        "from keras.utils.vis_utils import model_to_dot\n",
        "import os\n",
        "\n",
        "os.environ[\"PATH\"] += os.pathsep + 'C:/Program Files (x86)/Graphviz2.38/bin/'\n",
        "\n",
        "plot_model(model, to_file='model_v4a.png')\n",
        "SVG(model_to_dot(model).create(prog='dot', format='svg'))"
      ],
      "execution_count": 0,
      "outputs": [
        {
          "output_type": "execute_result",
          "data": {
            "text/plain": [
              "<IPython.core.display.SVG object>"
            ],
            "image/svg+xml": "<svg height=\"410pt\" viewBox=\"0.00 0.00 142.00 410.00\" width=\"142pt\" xmlns=\"http://www.w3.org/2000/svg\" xmlns:xlink=\"http://www.w3.org/1999/xlink\">\n<g class=\"graph\" id=\"graph0\" transform=\"scale(1 1) rotate(0) translate(4 406)\">\n<title>G</title>\n<polygon fill=\"#ffffff\" points=\"-4,4 -4,-406 138,-406 138,4 -4,4\" stroke=\"transparent\"/>\n<!-- 139839516511032 -->\n<g class=\"node\" id=\"node1\">\n<title>139839516511032</title>\n<polygon fill=\"none\" points=\"16,-292.5 16,-328.5 118,-328.5 118,-292.5 16,-292.5\" stroke=\"#000000\"/>\n<text fill=\"#000000\" font-family=\"Times,serif\" font-size=\"14.00\" text-anchor=\"middle\" x=\"67\" y=\"-306.8\">lstm_1: LSTM</text>\n</g>\n<!-- 139839516510416 -->\n<g class=\"node\" id=\"node2\">\n<title>139839516510416</title>\n<polygon fill=\"none\" points=\"0,-219.5 0,-255.5 134,-255.5 134,-219.5 0,-219.5\" stroke=\"#000000\"/>\n<text fill=\"#000000\" font-family=\"Times,serif\" font-size=\"14.00\" text-anchor=\"middle\" x=\"67\" y=\"-233.8\">dropout_1: Dropout</text>\n</g>\n<!-- 139839516511032&#45;&gt;139839516510416 -->\n<g class=\"edge\" id=\"edge2\">\n<title>139839516511032-&gt;139839516510416</title>\n<path d=\"M67,-292.4551C67,-284.3828 67,-274.6764 67,-265.6817\" fill=\"none\" stroke=\"#000000\"/>\n<polygon fill=\"#000000\" points=\"70.5001,-265.5903 67,-255.5904 63.5001,-265.5904 70.5001,-265.5903\" stroke=\"#000000\"/>\n</g>\n<!-- 139839464633008 -->\n<g class=\"node\" id=\"node3\">\n<title>139839464633008</title>\n<polygon fill=\"none\" points=\"16,-146.5 16,-182.5 118,-182.5 118,-146.5 16,-146.5\" stroke=\"#000000\"/>\n<text fill=\"#000000\" font-family=\"Times,serif\" font-size=\"14.00\" text-anchor=\"middle\" x=\"67\" y=\"-160.8\">lstm_2: LSTM</text>\n</g>\n<!-- 139839516510416&#45;&gt;139839464633008 -->\n<g class=\"edge\" id=\"edge3\">\n<title>139839516510416-&gt;139839464633008</title>\n<path d=\"M67,-219.4551C67,-211.3828 67,-201.6764 67,-192.6817\" fill=\"none\" stroke=\"#000000\"/>\n<polygon fill=\"#000000\" points=\"70.5001,-192.5903 67,-182.5904 63.5001,-192.5904 70.5001,-192.5903\" stroke=\"#000000\"/>\n</g>\n<!-- 139839464633848 -->\n<g class=\"node\" id=\"node4\">\n<title>139839464633848</title>\n<polygon fill=\"none\" points=\"0,-73.5 0,-109.5 134,-109.5 134,-73.5 0,-73.5\" stroke=\"#000000\"/>\n<text fill=\"#000000\" font-family=\"Times,serif\" font-size=\"14.00\" text-anchor=\"middle\" x=\"67\" y=\"-87.8\">dropout_2: Dropout</text>\n</g>\n<!-- 139839464633008&#45;&gt;139839464633848 -->\n<g class=\"edge\" id=\"edge4\">\n<title>139839464633008-&gt;139839464633848</title>\n<path d=\"M67,-146.4551C67,-138.3828 67,-128.6764 67,-119.6817\" fill=\"none\" stroke=\"#000000\"/>\n<polygon fill=\"#000000\" points=\"70.5001,-119.5903 67,-109.5904 63.5001,-119.5904 70.5001,-119.5903\" stroke=\"#000000\"/>\n</g>\n<!-- 139839462630288 -->\n<g class=\"node\" id=\"node5\">\n<title>139839462630288</title>\n<polygon fill=\"none\" points=\"13.5,-.5 13.5,-36.5 120.5,-36.5 120.5,-.5 13.5,-.5\" stroke=\"#000000\"/>\n<text fill=\"#000000\" font-family=\"Times,serif\" font-size=\"14.00\" text-anchor=\"middle\" x=\"67\" y=\"-14.8\">dense_1: Dense</text>\n</g>\n<!-- 139839464633848&#45;&gt;139839462630288 -->\n<g class=\"edge\" id=\"edge5\">\n<title>139839464633848-&gt;139839462630288</title>\n<path d=\"M67,-73.4551C67,-65.3828 67,-55.6764 67,-46.6817\" fill=\"none\" stroke=\"#000000\"/>\n<polygon fill=\"#000000\" points=\"70.5001,-46.5903 67,-36.5904 63.5001,-46.5904 70.5001,-46.5903\" stroke=\"#000000\"/>\n</g>\n<!-- 139839464635080 -->\n<g class=\"node\" id=\"node6\">\n<title>139839464635080</title>\n<polygon fill=\"none\" points=\"2.5,-365.5 2.5,-401.5 131.5,-401.5 131.5,-365.5 2.5,-365.5\" stroke=\"#000000\"/>\n<text fill=\"#000000\" font-family=\"Times,serif\" font-size=\"14.00\" text-anchor=\"middle\" x=\"67\" y=\"-379.8\">139839464635080</text>\n</g>\n<!-- 139839464635080&#45;&gt;139839516511032 -->\n<g class=\"edge\" id=\"edge1\">\n<title>139839464635080-&gt;139839516511032</title>\n<path d=\"M67,-365.4551C67,-357.3828 67,-347.6764 67,-338.6817\" fill=\"none\" stroke=\"#000000\"/>\n<polygon fill=\"#000000\" points=\"70.5001,-338.5903 67,-328.5904 63.5001,-338.5904 70.5001,-338.5903\" stroke=\"#000000\"/>\n</g>\n</g>\n</svg>"
          },
          "metadata": {
            "tags": []
          },
          "execution_count": 11
        }
      ]
    },
    {
      "cell_type": "markdown",
      "metadata": {
        "id": "UPKoc06jZJEF",
        "colab_type": "text"
      },
      "source": [
        "# Predict on dev set"
      ]
    },
    {
      "cell_type": "code",
      "metadata": {
        "id": "UNRGBRlJZJEI",
        "colab_type": "code",
        "outputId": "e35ce4df-2cc1-46fb-d1d3-2fef9e0d2883",
        "colab": {
          "base_uri": "https://localhost:8080/",
          "height": 68
        }
      },
      "source": [
        "# Do prediction\n",
        "est_scaled = model.predict(x_cv_scaled)\n",
        "est = (est_scaled * np.array(std_cv_list).reshape(-1,1)) + np.array(mu_cv_list).reshape(-1,1)\n",
        "print(\"est.shape = \" + str(est.shape))\n",
        "\n",
        "# Calculate RMSE\n",
        "rmse_bef_tuning = math.sqrt(mean_squared_error(y_cv, est))\n",
        "print(\"RMSE = %0.3f\" % rmse_bef_tuning)\n",
        "\n",
        "# Calculate MAPE\n",
        "mape_pct_bef_tuning = get_mape(y_cv, est)\n",
        "print(\"MAPE = %0.3f%%\" % mape_pct_bef_tuning)"
      ],
      "execution_count": 0,
      "outputs": [
        {
          "output_type": "stream",
          "text": [
            "est.shape = (740, 1)\n",
            "RMSE = 13.752\n",
            "MAPE = 1.574%\n"
          ],
          "name": "stdout"
        }
      ]
    },
    {
      "cell_type": "code",
      "metadata": {
        "id": "HeIBoHlQZJEP",
        "colab_type": "code",
        "outputId": "67784749-d2a5-4f31-cb16-ad49c10e2ad5",
        "colab": {
          "base_uri": "https://localhost:8080/",
          "height": 502
        }
      },
      "source": [
        "# Plot adjusted close over time\n",
        "print('cell 13')\n",
        "rcParams['figure.figsize'] = 10, 8 # width 10, height 8\n",
        "\n",
        "est_df = pd.DataFrame({'est': est.reshape(-1), \n",
        "                       'y_cv': y_cv.reshape(-1),\n",
        "                       'date': cv['date']})\n",
        "\n",
        "ax = train.plot(x='date', y='close', style='b-', grid=True)\n",
        "ax = cv.plot(x='date', y='close', style='y-', grid=True, ax=ax)\n",
        "ax = test.plot(x='date', y='close', style='g-', grid=True, ax=ax)\n",
        "ax = est_df.plot(x='date', y='est', style='r-', grid=True, ax=ax)\n",
        "ax.legend(['train', 'dev', 'test', 'est'])\n",
        "ax.set_xlabel(\"date\")\n",
        "ax.set_ylabel(\"USD\")"
      ],
      "execution_count": 0,
      "outputs": [
        {
          "output_type": "stream",
          "text": [
            "cell 13\n"
          ],
          "name": "stdout"
        },
        {
          "output_type": "execute_result",
          "data": {
            "text/plain": [
              "Text(0, 0.5, 'USD')"
            ]
          },
          "metadata": {
            "tags": []
          },
          "execution_count": 13
        },
        {
          "output_type": "display_data",
          "data": {
            "image/png": "[encoded data removed]",
            "text/plain": [
              "<Figure size 720x576 with 1 Axes>"
            ]
          },
          "metadata": {
            "tags": []
          }
        }
      ]
    },
    {
      "cell_type": "markdown",
      "metadata": {
        "id": "6wb-kbHcZJEZ",
        "colab_type": "text"
      },
      "source": [
        "# Tuning N (no. of days to use as features)"
      ]
    },
    {
      "cell_type": "code",
      "metadata": {
        "scrolled": false,
        "id": "I0WbJdZhZJEc",
        "colab_type": "code",
        "colab": {}
      },
      "source": [
        "# print('cell 14')\n",
        "# param_label = 'N'\n",
        "# param_list = range(3, 60)\n",
        "\n",
        "# error_rate = {param_label: [], 'rmse': [], 'mape_pct': []}\n",
        "# tic = time.time()\n",
        "# for param in tqdm_notebook(param_list):\n",
        "    \n",
        "#     # Split train into x and y\n",
        "#     x_train_scaled, y_train_scaled = get_x_y(train_scaled, param, param)\n",
        "\n",
        "#     # Split cv into x and y\n",
        "#     x_cv_scaled, y_cv, mu_cv_list, std_cv_list = get_x_scaled_y(np.array(train_cv['close']).reshape(-1,1), param, num_train)\n",
        "    \n",
        "#     # Train, predict and eval model\n",
        "#     rmse, mape, _ = train_pred_eval_model(x_train_scaled, \\\n",
        "#                                           y_train_scaled, \\\n",
        "#                                           x_cv_scaled, \\\n",
        "#                                           y_cv, \\\n",
        "#                                           mu_cv_list, \\\n",
        "#                                           std_cv_list, \\\n",
        "#                                           lstm_units=lstm_units, \\\n",
        "#                                           dropout_prob=dropout_prob, \\\n",
        "#                                           optimizer=optimizer, \\\n",
        "#                                           epochs=epochs, \\\n",
        "#                                           batch_size=batch_size)\n",
        "    \n",
        "#     # Collect results\n",
        "#     error_rate[param_label].append(param)\n",
        "#     error_rate['rmse'].append(rmse)\n",
        "#     error_rate['mape_pct'].append(mape)\n",
        "    \n",
        "# error_rate = pd.DataFrame(error_rate)\n",
        "# toc = time.time()\n",
        "# print(\"Minutes taken = \" + str((toc-tic)/60.0))\n",
        "# error_rate   "
      ],
      "execution_count": 0,
      "outputs": []
    },
    {
      "cell_type": "code",
      "metadata": {
        "scrolled": false,
        "id": "uDo9OjaZZJEi",
        "colab_type": "code",
        "outputId": "e00dd199-6cb6-491b-bb6a-2e3b797dd56d",
        "colab": {
          "base_uri": "https://localhost:8080/",
          "height": 34
        }
      },
      "source": [
        "print('cell 15')\n",
        "# Plot RMSE \n",
        "#rcParams['figure.figsize'] = 10, 8 # width 10, height 8\n",
        "\n",
        "#ax = error_rate.plot(x='N', y='rmse', style='bx-', grid=True)\n",
        "#ax = error_rate.plot(x='N', y='mape_pct', style='rx-', grid=True, ax=ax)\n",
        "#ax.set_xlabel(\"N\")\n",
        "#ax.set_ylabel(\"RMSE/MAPE(%)\")"
      ],
      "execution_count": 0,
      "outputs": [
        {
          "output_type": "stream",
          "text": [
            "cell 15\n"
          ],
          "name": "stdout"
        }
      ]
    },
    {
      "cell_type": "code",
      "metadata": {
        "id": "_D8xOC0PZJEo",
        "colab_type": "code",
        "outputId": "11946582-ca05-4913-9080-91825194d687",
        "colab": {
          "base_uri": "https://localhost:8080/",
          "height": 232
        }
      },
      "source": [
        "# Get optimum value for param\n",
        "#temp = error_rate[error_rate['rmse'] == error_rate['rmse'].min()]\n",
        "#N_opt = temp['N'].values[0]\n",
        "#print(\"min RMSE = %0.3f\" % error_rate['rmse'].min())\n",
        "#print(\"min MAPE = %0.3f%%\" % error_rate['mape_pct'].min())\n",
        "#print(\"optimum \" + param_label + \" = \" + str(N_opt))"
      ],
      "execution_count": 0,
      "outputs": [
        {
          "output_type": "error",
          "ename": "NameError",
          "evalue": "ignored",
          "traceback": [
            "\u001b[0;31m---------------------------------------------------------------------------\u001b[0m",
            "\u001b[0;31mNameError\u001b[0m                                 Traceback (most recent call last)",
            "\u001b[0;32m<ipython-input-18-8cf15fa7f261>\u001b[0m in \u001b[0;36m<module>\u001b[0;34m()\u001b[0m\n\u001b[0;32m----> 1\u001b[0;31m \u001b[0mtemp\u001b[0m \u001b[0;34m=\u001b[0m \u001b[0merror_rate\u001b[0m\u001b[0;34m[\u001b[0m\u001b[0merror_rate\u001b[0m\u001b[0;34m[\u001b[0m\u001b[0;34m'rmse'\u001b[0m\u001b[0;34m]\u001b[0m \u001b[0;34m==\u001b[0m \u001b[0merror_rate\u001b[0m\u001b[0;34m[\u001b[0m\u001b[0;34m'rmse'\u001b[0m\u001b[0;34m]\u001b[0m\u001b[0;34m.\u001b[0m\u001b[0mmin\u001b[0m\u001b[0;34m(\u001b[0m\u001b[0;34m)\u001b[0m\u001b[0;34m]\u001b[0m\u001b[0;34m\u001b[0m\u001b[0;34m\u001b[0m\u001b[0m\n\u001b[0m\u001b[1;32m      2\u001b[0m \u001b[0mN_opt\u001b[0m \u001b[0;34m=\u001b[0m \u001b[0mtemp\u001b[0m\u001b[0;34m[\u001b[0m\u001b[0;34m'N'\u001b[0m\u001b[0;34m]\u001b[0m\u001b[0;34m.\u001b[0m\u001b[0mvalues\u001b[0m\u001b[0;34m[\u001b[0m\u001b[0;36m0\u001b[0m\u001b[0;34m]\u001b[0m\u001b[0;34m\u001b[0m\u001b[0;34m\u001b[0m\u001b[0m\n\u001b[1;32m      3\u001b[0m \u001b[0mprint\u001b[0m\u001b[0;34m(\u001b[0m\u001b[0;34m\"min RMSE = %0.3f\"\u001b[0m \u001b[0;34m%\u001b[0m \u001b[0merror_rate\u001b[0m\u001b[0;34m[\u001b[0m\u001b[0;34m'rmse'\u001b[0m\u001b[0;34m]\u001b[0m\u001b[0;34m.\u001b[0m\u001b[0mmin\u001b[0m\u001b[0;34m(\u001b[0m\u001b[0;34m)\u001b[0m\u001b[0;34m)\u001b[0m\u001b[0;34m\u001b[0m\u001b[0;34m\u001b[0m\u001b[0m\n\u001b[1;32m      4\u001b[0m \u001b[0mprint\u001b[0m\u001b[0;34m(\u001b[0m\u001b[0;34m\"min MAPE = %0.3f%%\"\u001b[0m \u001b[0;34m%\u001b[0m \u001b[0merror_rate\u001b[0m\u001b[0;34m[\u001b[0m\u001b[0;34m'mape_pct'\u001b[0m\u001b[0;34m]\u001b[0m\u001b[0;34m.\u001b[0m\u001b[0mmin\u001b[0m\u001b[0;34m(\u001b[0m\u001b[0;34m)\u001b[0m\u001b[0;34m)\u001b[0m\u001b[0;34m\u001b[0m\u001b[0;34m\u001b[0m\u001b[0m\n\u001b[1;32m      5\u001b[0m \u001b[0mprint\u001b[0m\u001b[0;34m(\u001b[0m\u001b[0;34m\"optimum \"\u001b[0m \u001b[0;34m+\u001b[0m \u001b[0mparam_label\u001b[0m \u001b[0;34m+\u001b[0m \u001b[0;34m\" = \"\u001b[0m \u001b[0;34m+\u001b[0m \u001b[0mstr\u001b[0m\u001b[0;34m(\u001b[0m\u001b[0mN_opt\u001b[0m\u001b[0;34m)\u001b[0m\u001b[0;34m)\u001b[0m\u001b[0;34m\u001b[0m\u001b[0;34m\u001b[0m\u001b[0m\n",
            "\u001b[0;31mNameError\u001b[0m: name 'error_rate' is not defined"
          ]
        }
      ]
    },
    {
      "cell_type": "markdown",
      "metadata": {
        "id": "TpBFSXrvZJEr",
        "colab_type": "text"
      },
      "source": [
        "# Tuning model - epochs and batch_size"
      ]
    },
    {
      "cell_type": "code",
      "metadata": {
        "scrolled": true,
        "id": "s3UgErOHZJEw",
        "colab_type": "code",
        "colab": {}
      },
      "source": [
        "# param_label = 'epochs'\n",
        "# param_list = [1, 10, 20, 30, 40, 50]\n",
        "\n",
        "# param2_label = 'batch_size'\n",
        "# param2_list = [8, 16, 32, 64, 128]\n",
        "\n",
        "# # Split train into x and y\n",
        "# x_train_scaled, y_train_scaled = get_x_y(train_scaled, N_opt, N_opt)\n",
        "\n",
        "# # Split cv into x and y\n",
        "# x_cv_scaled, y_cv, mu_cv_list, std_cv_list = get_x_scaled_y(np.array(train_cv['close']).reshape(-1,1), N_opt, num_train)\n",
        "\n",
        "# error_rate = {param_label: [], param2_label: [], 'rmse': [], 'mape_pct': []}\n",
        "# tic = time.time()\n",
        "# for param in tqdm_notebook(param_list):\n",
        "    \n",
        "#     for param2 in tqdm_notebook(param2_list):\n",
        "    \n",
        "#         # Train, predict and eval model\n",
        "#         rmse, mape, _ = train_pred_eval_model(x_train_scaled, \\\n",
        "#                                               y_train_scaled, \\\n",
        "#                                               x_cv_scaled, \\\n",
        "#                                               y_cv, \\\n",
        "#                                               mu_cv_list, \\\n",
        "#                                               std_cv_list, \\\n",
        "#                                               lstm_units=lstm_units, \\\n",
        "#                                               dropout_prob=dropout_prob, \\\n",
        "#                                               optimizer=optimizer, \\\n",
        "#                                               epochs=param, \\\n",
        "#                                               batch_size=param2)\n",
        "    \n",
        "#         # Collect results\n",
        "#         error_rate[param_label].append(param)\n",
        "#         error_rate[param2_label].append(param2)\n",
        "#         error_rate['rmse'].append(rmse)\n",
        "#         error_rate['mape_pct'].append(mape)\n",
        "    \n",
        "# error_rate = pd.DataFrame(error_rate)\n",
        "# toc = time.time()\n",
        "# print(\"Minutes taken = \" + str((toc-tic)/60.0))\n",
        "# error_rate   "
      ],
      "execution_count": 0,
      "outputs": []
    },
    {
      "cell_type": "code",
      "metadata": {
        "id": "cQXEyUvmZJE_",
        "colab_type": "code",
        "colab": {}
      },
      "source": [
        "# Plot performance versus params\n",
        "rcParams['figure.figsize'] = 10, 8 # width 10, height 8\n",
        "temp = error_rate[error_rate[param2_label]==param2_list[0]]\n",
        "ax = temp.plot(x=param_label, y='rmse', style='bs-', grid=True)\n",
        "legend_list = [param2_label + '_' + str(param2_list[0])]\n",
        "\n",
        "color_list = ['r', 'g', 'k', 'y', 'm', 'c', '0.75']\n",
        "for i in range(1,len(param2_list)):\n",
        "    temp = error_rate[error_rate[param2_label]==param2_list[i]]\n",
        "    ax = temp.plot(x=param_label, y='rmse', color=color_list[i%len(color_list)], marker='s', grid=True, ax=ax)\n",
        "    legend_list.append(param2_label + '_' + str(param2_list[i]))\n",
        "\n",
        "ax.set_xlabel(param_label)\n",
        "ax.set_ylabel(\"RMSE\")\n",
        "matplotlib.rcParams.update({'font.size': 14})\n",
        "plt.legend(legend_list, loc='center left', bbox_to_anchor=(1.0, 0.5)) # positions legend outside figure\n",
        "# ax.set_xlim([10, 50])\n",
        "# ax.set_ylim([0, 5])"
      ],
      "execution_count": 0,
      "outputs": []
    },
    {
      "cell_type": "code",
      "metadata": {
        "id": "8fNyX-7VZJFJ",
        "colab_type": "code",
        "colab": {}
      },
      "source": [
        "# Get optimum value for param and param2\n",
        "temp = error_rate[error_rate['rmse'] == error_rate['rmse'].min()]\n",
        "epochs_opt = temp[param_label].values[0]\n",
        "batch_size_opt = temp[param2_label].values[0]\n",
        "print(\"min RMSE = %0.3f\" % error_rate['rmse'].min())\n",
        "print(\"min MAPE = %0.3f%%\" % error_rate['mape_pct'].min())\n",
        "print(\"optimum \" + param_label + \" = \" + str(epochs_opt))\n",
        "print(\"optimum \" + param2_label + \" = \" + str(batch_size_opt))"
      ],
      "execution_count": 0,
      "outputs": []
    },
    {
      "cell_type": "markdown",
      "metadata": {
        "id": "nSUMeAIYZJFQ",
        "colab_type": "text"
      },
      "source": [
        "# Tuning model - LSTM units and dropout prob"
      ]
    },
    {
      "cell_type": "code",
      "metadata": {
        "id": "BxYGzqD3ZJFS",
        "colab_type": "code",
        "colab": {}
      },
      "source": [
        "# param_label = 'lstm_units'\n",
        "# param_list = [10, 50, 64, 128]\n",
        "\n",
        "# param2_label = 'dropout_prob'\n",
        "# param2_list = [0.5, 0.6, 0.7, 0.8, 0.9, 1]\n",
        "\n",
        "# error_rate = {param_label: [], param2_label: [], 'rmse': [], 'mape_pct': []}\n",
        "# tic = time.time()\n",
        "# for param in tqdm_notebook(param_list):\n",
        "    \n",
        "#     for param2 in tqdm_notebook(param2_list):\n",
        "    \n",
        "#         # Train, predict and eval model\n",
        "#         rmse, mape, _ = train_pred_eval_model(x_train_scaled, \\\n",
        "#                                               y_train_scaled, \\\n",
        "#                                               x_cv_scaled, \\\n",
        "#                                               y_cv, \\\n",
        "#                                               mu_cv_list, \\\n",
        "#                                               std_cv_list, \\\n",
        "#                                               lstm_units=param, \\\n",
        "#                                               dropout_prob=param2, \\\n",
        "#                                               optimizer=optimizer, \\\n",
        "#                                               epochs=epochs_opt, \\\n",
        "#                                               batch_size=batch_size_opt)\n",
        "    \n",
        "#         # Collect results\n",
        "#         error_rate[param_label].append(param)\n",
        "#         error_rate[param2_label].append(param2)\n",
        "#         error_rate['rmse'].append(rmse)\n",
        "#         error_rate['mape_pct'].append(mape)\n",
        "    \n",
        "# error_rate = pd.DataFrame(error_rate)\n",
        "# toc = time.time()\n",
        "# print(\"Minutes taken = \" + str((toc-tic)/60.0))\n",
        "# error_rate   "
      ],
      "execution_count": 0,
      "outputs": []
    },
    {
      "cell_type": "code",
      "metadata": {
        "id": "m_TeZotPZJFV",
        "colab_type": "code",
        "colab": {}
      },
      "source": [
        "# Plot performance versus params\n",
        "rcParams['figure.figsize'] = 10, 8 # width 10, height 8\n",
        "temp = error_rate[error_rate[param2_label]==param2_list[0]]\n",
        "ax = temp.plot(x=param_label, y='rmse', style='bs-', grid=True)\n",
        "legend_list = [param2_label + '_' + str(param2_list[0])]\n",
        "\n",
        "color_list = ['r', 'g', 'k', 'y', 'm', 'c', '0.75']\n",
        "for i in range(1,len(param2_list)):\n",
        "    temp = error_rate[error_rate[param2_label]==param2_list[i]]\n",
        "    ax = temp.plot(x=param_label, y='rmse', color=color_list[i%len(color_list)], marker='s', grid=True, ax=ax)\n",
        "    legend_list.append(param2_label + '_' + str(param2_list[i]))\n",
        "\n",
        "ax.set_xlabel(param_label)\n",
        "ax.set_ylabel(\"RMSE\")\n",
        "matplotlib.rcParams.update({'font.size': 14})\n",
        "plt.legend(legend_list, loc='center left', bbox_to_anchor=(1.0, 0.5)) # positions legend outside figure"
      ],
      "execution_count": 0,
      "outputs": []
    },
    {
      "cell_type": "code",
      "metadata": {
        "id": "dD0j74CgZJFa",
        "colab_type": "code",
        "colab": {}
      },
      "source": [
        "# Get optimum value for param and param2\n",
        "temp = error_rate[error_rate['rmse'] == error_rate['rmse'].min()]\n",
        "lstm_units_opt = temp[param_label].values[0]\n",
        "dropout_prob_opt = temp[param2_label].values[0]\n",
        "print(\"min RMSE = %0.3f\" % error_rate['rmse'].min())\n",
        "print(\"min MAPE = %0.3f%%\" % error_rate['mape_pct'].min())\n",
        "print(\"optimum \" + param_label + \" = \" + str(lstm_units_opt))\n",
        "print(\"optimum \" + param2_label + \" = \" + str(dropout_prob_opt))"
      ],
      "execution_count": 0,
      "outputs": []
    },
    {
      "cell_type": "markdown",
      "metadata": {
        "id": "e3Tz9KJZZJFf",
        "colab_type": "text"
      },
      "source": [
        "# Tuning model - optimizer"
      ]
    },
    {
      "cell_type": "code",
      "metadata": {
        "id": "GmluO_ETZJFi",
        "colab_type": "code",
        "colab": {}
      },
      "source": [
        "# param_label = 'optimizer'\n",
        "# param_list = ['adam', 'sgd', 'rmsprop', 'adagrad', 'adadelta', 'adamax', 'nadam']\n",
        "\n",
        "# error_rate = {param_label: [], 'rmse': [], 'mape_pct': []}\n",
        "# tic = time.time()\n",
        "# for param in tqdm_notebook(param_list):\n",
        "   \n",
        "#     # Train, predict and eval model\n",
        "#     rmse, mape, _ = train_pred_eval_model(x_train_scaled, \\\n",
        "#                                           y_train_scaled, \\\n",
        "#                                           x_cv_scaled, \\\n",
        "#                                           y_cv, \\\n",
        "#                                           mu_cv_list, \\\n",
        "#                                           std_cv_list, \\\n",
        "#                                           lstm_units=lstm_units_opt, \\\n",
        "#                                           dropout_prob=dropout_prob_opt, \\\n",
        "#                                           optimizer=param, \\\n",
        "#                                           epochs=epochs_opt, \\\n",
        "#                                           batch_size=batch_size_opt)\n",
        "    \n",
        "#     # Collect results\n",
        "#     error_rate[param_label].append(param)\n",
        "#     error_rate['rmse'].append(rmse)\n",
        "#     error_rate['mape_pct'].append(mape)\n",
        "    \n",
        "# error_rate = pd.DataFrame(error_rate)\n",
        "# toc = time.time()\n",
        "# print(\"Minutes taken = \" + str((toc-tic)/60.0))\n",
        "# error_rate   "
      ],
      "execution_count": 0,
      "outputs": []
    },
    {
      "cell_type": "code",
      "metadata": {
        "id": "3lwfPf-DZJFo",
        "colab_type": "code",
        "colab": {}
      },
      "source": [
        "# Plot RMSE \n",
        "rcParams['figure.figsize'] = 10, 8 # width 10, height 8\n",
        "\n",
        "ax = error_rate.plot(x='optimizer', y='rmse', style='bx-', grid=True)\n",
        "ax = error_rate.plot(x='optimizer', y='mape_pct', style='rx-', grid=True, ax=ax)\n",
        "ax.set_xticklabels(param_list)\n",
        "ax.set_xlabel(\"Optimizer\")\n",
        "ax.set_ylabel(\"RMSE/MAPE(%)\")"
      ],
      "execution_count": 0,
      "outputs": []
    },
    {
      "cell_type": "code",
      "metadata": {
        "id": "VtAETcIEZJFv",
        "colab_type": "code",
        "colab": {}
      },
      "source": [
        "# Get optimum value for param and param2\n",
        "temp = error_rate[error_rate['rmse'] == error_rate['rmse'].min()]\n",
        "optimizer_opt = temp[param_label].values[0]\n",
        "print(\"min RMSE = %0.3f\" % error_rate['rmse'].min())\n",
        "print(\"min MAPE = %0.3f%%\" % error_rate['mape_pct'].min())\n",
        "print(\"optimum \" + param_label + \" = \" + str(optimizer_opt))"
      ],
      "execution_count": 0,
      "outputs": []
    },
    {
      "cell_type": "markdown",
      "metadata": {
        "id": "RE9R1-PyZJF0",
        "colab_type": "text"
      },
      "source": [
        "# Tuned params"
      ]
    },
    {
      "cell_type": "code",
      "metadata": {
        "id": "Hu3JvCuQZJF3",
        "colab_type": "code",
        "colab": {}
      },
      "source": [
        "# d = {'param': ['N', 'lstm_units', 'dropout_prob', 'optimizer', 'epochs', 'batch_size', 'rmse', 'mape_pct'],\n",
        "#      'original': [N, lstm_units, dropout_prob, optimizer, epochs, batch_size, rmse_bef_tuning, mape_pct_bef_tuning],\n",
        "#      'after_tuning': [N_opt, lstm_units_opt, dropout_prob_opt, optimizer_opt, epochs_opt, batch_size_opt, error_rate['rmse'].min(), error_rate['mape_pct'].min()]}\n",
        "# tuned_params = pd.DataFrame(d)\n",
        "# tuned_params"
      ],
      "execution_count": 0,
      "outputs": []
    },
    {
      "cell_type": "markdown",
      "metadata": {
        "id": "XqUNIS4JZJGA",
        "colab_type": "text"
      },
      "source": [
        "# Final model"
      ]
    },
    {
      "cell_type": "code",
      "metadata": {
        "id": "Lj8QbfzwZJGD",
        "colab_type": "code",
        "outputId": "9c4f05f4-ec4f-4ec0-df10-044b0029ca02",
        "colab": {
          "base_uri": "https://localhost:8080/",
          "height": 51
        }
      },
      "source": [
        "N_opt = 30\n",
        "# Split train_cv into x and y\n",
        "x_train_cv_scaled, y_train_cv_scaled = get_x_y(train_cv_scaled_final, N_opt, N_opt)\n",
        "\n",
        "# Split test into x and y\n",
        "x_test_scaled, y_test, mu_test_list, std_test_list = get_x_scaled_y(np.array(df['close']).reshape(-1,1), N_opt, num_train+num_cv)\n",
        "\n",
        "# Train, predict and eval model\n",
        "rmse, mape, est = train_pred_eval_model(x_train_cv_scaled, \\\n",
        "                                        y_train_cv_scaled, \\\n",
        "                                        x_test_scaled, \\\n",
        "                                        y_test, \\\n",
        "                                        mu_test_list, \\\n",
        "                                        std_test_list, \\\n",
        "                                        lstm_units=50, \\\n",
        "                                        dropout_prob=0.6, \\\n",
        "                                        optimizer='adamax', \\\n",
        "                                        epochs=1, \\\n",
        "                                        batch_size= 16)\n",
        "\n",
        "# Calculate RMSE\n",
        "print(\"RMSE on test set = %0.3f\" % rmse)\n",
        "\n",
        "# Calculate MAPE\n",
        "print(\"MAPE on test set = %0.3f%%\" % mape)"
      ],
      "execution_count": 0,
      "outputs": [
        {
          "output_type": "stream",
          "text": [
            "RMSE on test set = 29.477\n",
            "MAPE on test set = 2.207%\n"
          ],
          "name": "stdout"
        }
      ]
    },
    {
      "cell_type": "code",
      "metadata": {
        "id": "cIpZQo-MZJGH",
        "colab_type": "code",
        "outputId": "5714321a-828e-4df5-d57a-43830438661f",
        "colab": {
          "base_uri": "https://localhost:8080/",
          "height": 485
        }
      },
      "source": [
        "# Plot adjusted close over time\n",
        "rcParams['figure.figsize'] = 10, 8 # width 10, height 8\n",
        "\n",
        "est_df = pd.DataFrame({'est': est.reshape(-1), \n",
        "                       'date': df[num_train+num_cv:]['date']})\n",
        "\n",
        "ax = train.plot(x='date', y='close', style='b-', grid=True)\n",
        "ax = cv.plot(x='date', y='close', style='y-', grid=True, ax=ax)\n",
        "ax = test.plot(x='date', y='close', style='g-', grid=True, ax=ax)\n",
        "ax = est_df.plot(x='date', y='est', style='r-', grid=True, ax=ax)\n",
        "ax.legend(['train', 'dev', 'test', 'predictions'])\n",
        "ax.set_xlabel(\"date\")\n",
        "ax.set_ylabel(\"USD\")"
      ],
      "execution_count": 0,
      "outputs": [
        {
          "output_type": "execute_result",
          "data": {
            "text/plain": [
              "Text(0, 0.5, 'USD')"
            ]
          },
          "metadata": {
            "tags": []
          },
          "execution_count": 20
        },
        {
          "output_type": "display_data",
          "data": {
            "image/png": "[encoded data removed]",
            "text/plain": [
              "<Figure size 720x576 with 1 Axes>"
            ]
          },
          "metadata": {
            "tags": []
          }
        }
      ]
    },
    {
      "cell_type": "code",
      "metadata": {
        "id": "aKStGQmZZJGS",
        "colab_type": "code",
        "outputId": "24002fce-d163-4570-a292-88acb748a8a5",
        "colab": {
          "base_uri": "https://localhost:8080/",
          "height": 506
        }
      },
      "source": [
        "# Plot adjusted close over time, for test set only\n",
        "rcParams['figure.figsize'] = 10, 8 # width 10, height 8\n",
        "ax = train.plot(x='date', y='close', style='b-', grid=True)\n",
        "ax = cv.plot(x='date', y='close', style='y-', grid=True, ax=ax)\n",
        "ax = test.plot(x='date', y='close', style='g-', grid=True, ax=ax)\n",
        "ax = est_df.plot(x='date', y='est', style='r-', grid=True, ax=ax)\n",
        "ax.legend(['train', 'dev', 'test', 'predictions'])\n",
        "ax.set_xlabel(\"date\")\n",
        "ax.set_ylabel(\"USD\")\n",
        "ax.set_xlim([date(2016, 4, 1), date(2019, 1, 1)])\n",
        "ax.set_ylim([700, 1300])\n",
        "ax.set_title(\"Zoom in to test set\")"
      ],
      "execution_count": 0,
      "outputs": [
        {
          "output_type": "execute_result",
          "data": {
            "text/plain": [
              "Text(0.5, 1.0, 'Zoom in to test set')"
            ]
          },
          "metadata": {
            "tags": []
          },
          "execution_count": 21
        },
        {
          "output_type": "display_data",
          "data": {
            "image/png": "[encoded data removed]",
            "text/plain": [
              "<Figure size 720x576 with 1 Axes>"
            ]
          },
          "metadata": {
            "tags": []
          }
        }
      ]
    },
    {
      "cell_type": "code",
      "metadata": {
        "id": "hgZ0b31kZJGX",
        "colab_type": "code",
        "colab": {}
      },
      "source": [
        "# Plot adjusted close over time, only for test set\n",
        "rcParams['figure.figsize'] = 10, 8 # width 10, height 8\n",
        "matplotlib.rcParams.update({'font.size': 14})\n",
        "\n",
        "ax = test.plot(x='date', y='close', style='gx-', grid=True)\n",
        "ax = est_df.plot(x='date', y='est', style='rx-', grid=True, ax=ax)\n",
        "ax.legend(['test', 'predictions using lstm'], loc='upper left')\n",
        "ax.set_xlabel(\"date\")\n",
        "ax.set_ylabel(\"USD\")\n",
        "ax.set_xlim([date(2018, 4, 1), date(2019, 1, 1)])\n",
        "ax.set_ylim([700, 1300])"
      ],
      "execution_count": 0,
      "outputs": []
    },
    {
      "cell_type": "code",
      "metadata": {
        "id": "8vt9cuLtZJGZ",
        "colab_type": "code",
        "colab": {}
      },
      "source": [
        "# Save as csv\n",
        "test_lstm = est_df\n",
        "test_lstm.to_csv(\"./out/test_lstm.csv\")"
      ],
      "execution_count": 0,
      "outputs": []
    },
    {
      "cell_type": "markdown",
      "metadata": {
        "collapsed": true,
        "id": "e7zoVPXxZJGh",
        "colab_type": "text"
      },
      "source": [
        "# Findings\n",
        "* On the test set, the RMSE is 1.164 and MAPE is 0.583% using N_opt=3"
      ]
    },
    {
      "cell_type": "code",
      "metadata": {
        "id": "Ytiswd9bZJGj",
        "colab_type": "code",
        "colab": {}
      },
      "source": [
        ""
      ],
      "execution_count": 0,
      "outputs": []
    }
  ]
}