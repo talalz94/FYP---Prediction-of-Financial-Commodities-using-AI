{
 "cells": [
  {
   "cell_type": "markdown",
   "metadata": {
    "_cell_guid": "02bcad77-7615-476a-996d-06b867f9bf82",
    "_uuid": "ac0125127a55e4d120e4de2a056c584aeb0a0e99"
   },
   "source": [
    "# Introduction\n",
    "In this notebook I will explore techniques to use text data as input for a classification. "
   ]
  },
  {
   "cell_type": "markdown",
   "metadata": {
    "_cell_guid": "d7e01705-75cb-480b-b9c6-ca9edf5334b1",
    "_uuid": "bef30704a2c497f940d64b4486508903444f295e"
   },
   "source": [
    "# Importing modules"
   ]
  },
  {
   "cell_type": "code",
   "execution_count": 50,
   "metadata": {
    "_cell_guid": "21cee267-f257-4ba3-88e1-d22e2fc57c7e",
    "_uuid": "2fec7805d8d0e999fc405d136beff46ac331b963"
   },
   "outputs": [],
   "source": [
    "import numpy as np \n",
    "import pandas as pd \n",
    "pd.set_option('display.max_colwidth', -1)\n",
    "from time import time\n",
    "import re\n",
    "import string\n",
    "import os\n",
    "import emoji\n",
    "from pprint import pprint\n",
    "import collections\n",
    "import sys\n",
    "sys.path.append(r\"C:\\Users\\Talal\\Desktop\\Talal\\FYP\\Code\")\n",
    "import SentimentAnalyzerFramer as saf\n",
    "import matplotlib.pyplot as plt\n",
    "import seaborn as sns\n",
    "sns.set(style=\"darkgrid\")\n",
    "sns.set(font_scale=1.3)\n",
    "\n",
    "from sklearn.base import BaseEstimator, TransformerMixin\n",
    "from sklearn.feature_extraction.text import CountVectorizer\n",
    "from sklearn.feature_extraction.text import TfidfVectorizer\n",
    "from sklearn.model_selection import GridSearchCV\n",
    "from sklearn.model_selection import train_test_split\n",
    "from sklearn.pipeline import Pipeline, FeatureUnion\n",
    "from sklearn.metrics import classification_report\n",
    "\n",
    "from sklearn.naive_bayes import MultinomialNB\n",
    "from sklearn.linear_model import LogisticRegression\n",
    "from sklearn.externals import joblib\n",
    "\n",
    "import gensim\n",
    "\n",
    "from nltk.corpus import stopwords\n",
    "from nltk.stem import PorterStemmer\n",
    "from nltk.tokenize import word_tokenize\n",
    "\n",
    "import warnings\n",
    "warnings.filterwarnings('ignore')\n",
    "\n",
    "np.random.seed(37)\n",
    "KAGGLE_ENV = os.getcwd == '/kaggle/working'"
   ]
  },
  {
   "cell_type": "markdown",
   "metadata": {
    "_cell_guid": "70ef7b60-cc3a-43ff-9cec-a3e9e1638af4",
    "_uuid": "f60c7c8463a6c6143608f055a4c3ba9ba3c4a4c6"
   },
   "source": [
    "# Loading the data\n",
    "We shuffle the data frame in case the classes would be sorted. This can be done with the **reindex** method applied on the **permutation** of the original indices. In this notebook we will only focus on the text variable and the class variable."
   ]
  },
  {
   "cell_type": "code",
   "execution_count": 53,
   "metadata": {
    "_cell_guid": "4d569df8-dbb0-49e8-afcd-2a464af497ce",
    "_uuid": "cb12f1648e335f18109757da2f90a99afc35a754"
   },
   "outputs": [],
   "source": [
    "#df = pd.read_csv('Tweets.csv')\n",
    "#df = df.reindex(np.random.permutation(df.index))  \n",
    "#df = df[['text', 'airline_sentiment']]\n",
    "\n",
    "sf = saf.frameAll()"
   ]
  },
  {
   "cell_type": "code",
   "execution_count": 57,
   "metadata": {},
   "outputs": [],
   "source": [
    "sf = sf.reindex(np.random.permutation(sf.index))\n",
    "df=sf\n",
    "#print(sf)"
   ]
  },
  {
   "cell_type": "markdown",
   "metadata": {
    "_cell_guid": "9e32eb35-b009-46c3-8fc1-fc5b2b48b6d3",
    "_uuid": "878a5d96c41b5f10158e6c915ee70e9cf1a63cb3"
   },
   "source": [
    "# Exploratory Data Analysis"
   ]
  },
  {
   "cell_type": "markdown",
   "metadata": {
    "_cell_guid": "c727d86e-65cb-4127-b665-54a0886b9fe0",
    "_uuid": "d6755361c07a2d13ef9965acd588c015dd3da916"
   },
   "source": [
    "## Target variable\n",
    "There are two class labels to predict: *negative or positive*. Indicated by 0 and 1 respectively.\n",
    "\n",
    "**CONCLUSION: **The class labels are **imbalanced** as we can see below. This is something to be kept in mind during the model training phase. I will have to make sure classes are balanced by up/undersampling."
   ]
  },
  {
   "cell_type": "code",
   "execution_count": 58,
   "metadata": {
    "_cell_guid": "9ac8a71b-adfa-4c54-9283-f09f5ea82089",
    "_uuid": "b91eff31d2a08fce8f7649bdd0656059604ff060"
   },
   "outputs": [
    {
     "data": {
      "image/png": "[encoded data removed]",
      "text/plain": [
       "<Figure size 648x432 with 1 Axes>"
      ]
     },
     "metadata": {},
     "output_type": "display_data"
    }
   ],
   "source": [
    "target_dist = sns.factorplot(x=\"Change\", data=sf, kind=\"count\", size=6, aspect=1.5, palette=\"PuBuGn_d\")\n",
    "plt.show();\n",
    "#if not KAGGLE_ENV: target_dist.savefig('../output/target_dist.png')"
   ]
  },
  {
   "cell_type": "markdown",
   "metadata": {
    "_cell_guid": "a957af2c-5b4e-4cfa-98e2-03d0f81089b0",
    "_uuid": "818dbfec79449a1bebffb8a782587aa6e9b1175a"
   },
   "source": [
    "## Text variable\n",
    "To analyze the text variable a class is created **TextCounts**. In this class I will compute some basic statistics on the text variable. This class can be used later in a Pipeline, as well.\n",
    "\n",
    "* **count_words** : number of words in the headline\n",
    "* **count_capital_words** : number of uppercase words, could be used to *\"shout\"* and express (negative) emotions\n",
    "* **count_excl_quest_marks** : number of question or exclamation marks\n",
    "* **count_urls** : number of links, preceded by http(s)\n",
    "* **count_emojis** : number of emoji, which might be a good indication of the sentiment"
   ]
  },
  {
   "cell_type": "code",
   "execution_count": 60,
   "metadata": {
    "_cell_guid": "12b6b6db-df87-4494-ad89-caa68b14495c",
    "_uuid": "bcc2afba20e5d041359c05ab3d8510716cdfc6dd"
   },
   "outputs": [],
   "source": [
    "class TextCounts(BaseEstimator, TransformerMixin):\n",
    "    \n",
    "    def count_regex(self, pattern, headline):\n",
    "        return len(re.findall(pattern, headline))\n",
    "    \n",
    "    def fit(self, X, y=None, **fit_params):\n",
    "        # fit method is used when specific operations need to be done on the train data, but not on the test data\n",
    "        return self\n",
    "    \n",
    "    def transform(self, X, **transform_params):\n",
    "        count_words = X.apply(lambda x: self.count_regex(r'\\w+', x)) \n",
    "        count_capital_words = X.apply(lambda x: self.count_regex(r'\\b[A-Z]{2,}\\b', x))\n",
    "        count_excl_quest_marks = X.apply(lambda x: self.count_regex(r'!|\\?', x))\n",
    "        count_urls = X.apply(lambda x: self.count_regex(r'http.?://[^\\s]+[\\s]?', x))\n",
    "        # We will replace the emoji symbols with a description, which makes using a regex for counting easier\n",
    "        # Moreover, it will result in having more words in the headline\n",
    "        count_emojis = X.apply(lambda x: emoji.demojize(x)).apply(lambda x: self.count_regex(r':[a-z_&]+:', x))\n",
    "        \n",
    "        df = pd.DataFrame({'count_words': count_words\n",
    "                           , 'count_capital_words': count_capital_words\n",
    "                           , 'count_excl_quest_marks': count_excl_quest_marks\n",
    "                           , 'count_urls': count_urls\n",
    "                           , 'count_emojis': count_emojis\n",
    "                          })\n",
    "        \n",
    "        return df"
   ]
  },
  {
   "cell_type": "code",
   "execution_count": 62,
   "metadata": {
    "_cell_guid": "4552bc28-6eb1-4f4f-8f73-a129ed0fad2f",
    "_uuid": "75373b34ac6eef2768612e70162caf6b121a4eab"
   },
   "outputs": [],
   "source": [
    "tc = TextCounts()\n",
    "df_eda = tc.fit_transform(df.Headline)\n",
    "# Add airline_sentiment to df_eda\n",
    "df_eda['Change'] = df.Change"
   ]
  },
  {
   "cell_type": "markdown",
   "metadata": {
    "_cell_guid": "41a7925a-af42-49c8-99db-aa6e361f6f4d",
    "_uuid": "18f7bdefa9a7fcab78e7e688b04b2d480a84ad66"
   },
   "source": [
    "It could be interesting to see how the TextStats variables relate to the class variable. Therefore we write a function **show_dist** that provides descriptive statistics and a plot per target class."
   ]
  },
  {
   "cell_type": "code",
   "execution_count": 63,
   "metadata": {
    "_cell_guid": "f0351435-3561-42a5-a5e8-55aa7209a964",
    "_uuid": "2ddbab218287cdcaa579764c555571031ffd6ab8"
   },
   "outputs": [],
   "source": [
    "def show_dist(df, col):\n",
    "    print('Descriptive stats for {}'.format(col))\n",
    "    print('-'*(len(col)+22))\n",
    "    print(df.groupby('Change')[col].describe())\n",
    "    bins = np.arange(df[col].min(), df[col].max() + 1)\n",
    "    g = sns.FacetGrid(df, col='Change', size=5, hue='Change', palette=\"PuBuGn_d\")\n",
    "    g = g.map(sns.distplot, col, kde=False, norm_hist=True, bins=bins)\n",
    "    plt.show()\n",
    "    #if not KAGGLE_ENV: g.savefig('../output/' + col + '_dist.png')"
   ]
  },
  {
   "cell_type": "code",
   "execution_count": 64,
   "metadata": {
    "_cell_guid": "1d7be179-d38c-4ed0-9c9d-dbacbf43c55d",
    "_uuid": "aa76ec64ad4d4eefcb086870e260bbe8e110f37a"
   },
   "outputs": [
    {
     "name": "stdout",
     "output_type": "stream",
     "text": [
      "Descriptive stats for count_words\n",
      "---------------------------------\n",
      "         count      mean       std  min  25%  50%   75%   max\n",
      "Change                                                       \n",
      "0.0     2083.0  8.443111  2.591830  2.0  7.0  8.0  10.0  22.0\n",
      "1.0     2964.0  8.545884  2.593949  2.0  7.0  8.0  10.0  19.0\n"
     ]
    },
    {
     "data": {
      "image/png": "[encoded data removed]",
      "text/plain": [
       "<Figure size 720x360 with 2 Axes>"
      ]
     },
     "metadata": {},
     "output_type": "display_data"
    }
   ],
   "source": [
    "show_dist(df_eda, 'count_words')"
   ]
  },
  {
   "cell_type": "code",
   "execution_count": null,
   "metadata": {
    "_cell_guid": "16de18c8-b2f9-4621-8a3f-40c58b851c8c",
    "_uuid": "93716e6681e5819a6e72ff56d9837e2271ba4929"
   },
   "outputs": [],
   "source": []
  },
  {
   "cell_type": "code",
   "execution_count": null,
   "metadata": {
    "_cell_guid": "d81673f2-6886-4a24-ac04-15af7e921299",
    "_uuid": "240fb548e872ba664ba0261393792225aa1b1be0"
   },
   "outputs": [],
   "source": []
  },
  {
   "cell_type": "code",
   "execution_count": 65,
   "metadata": {
    "_cell_guid": "e0d9c23e-03f7-4df4-a199-3b8f41f0e395",
    "_uuid": "26238a6baf1ad6bf3e3b30a32f8c4ecd1c54fff5"
   },
   "outputs": [
    {
     "name": "stdout",
     "output_type": "stream",
     "text": [
      "Descriptive stats for count_capital_words\n",
      "-----------------------------------------\n",
      "         count      mean       std  min  25%  50%  75%  max\n",
      "Change                                                     \n",
      "0.0     2083.0  0.041287  0.238521  0.0  0.0  0.0  0.0  6.0\n",
      "1.0     2964.0  0.030364  0.175506  0.0  0.0  0.0  0.0  2.0\n"
     ]
    },
    {
     "data": {
      "image/png": "[encoded data removed]",
      "text/plain": [
       "<Figure size 720x360 with 2 Axes>"
      ]
     },
     "metadata": {},
     "output_type": "display_data"
    }
   ],
   "source": [
    "show_dist(df_eda, 'count_capital_words')"
   ]
  },
  {
   "cell_type": "code",
   "execution_count": 66,
   "metadata": {
    "_cell_guid": "24d3ae00-b2f0-4293-a785-048b409d4541",
    "_uuid": "3ca91505f402504320a6c937dd6be5c20cf5a1f1"
   },
   "outputs": [
    {
     "name": "stdout",
     "output_type": "stream",
     "text": [
      "Descriptive stats for count_excl_quest_marks\n",
      "--------------------------------------------\n",
      "         count      mean       std  min  25%  50%  75%  max\n",
      "Change                                                     \n",
      "0.0     2083.0  0.054729  0.229606  0.0  0.0  0.0  0.0  2.0\n",
      "1.0     2964.0  0.057018  0.246038  0.0  0.0  0.0  0.0  3.0\n"
     ]
    },
    {
     "data": {
      "image/png": "[encoded data removed]",
      "text/plain": [
       "<Figure size 720x360 with 2 Axes>"
      ]
     },
     "metadata": {},
     "output_type": "display_data"
    }
   ],
   "source": [
    "show_dist(df_eda, 'count_excl_quest_marks')"
   ]
  },
  {
   "cell_type": "code",
   "execution_count": 67,
   "metadata": {
    "_cell_guid": "1e857eb3-e949-48d6-868c-9b8f123b401f",
    "_uuid": "23d339c124cd0ebc82d37be174133cfa2fbfca30"
   },
   "outputs": [
    {
     "name": "stdout",
     "output_type": "stream",
     "text": [
      "Descriptive stats for count_urls\n",
      "--------------------------------\n",
      "         count  mean  std  min  25%  50%  75%  max\n",
      "Change                                            \n",
      "0.0     2083.0  0.0   0.0  0.0  0.0  0.0  0.0  0.0\n",
      "1.0     2964.0  0.0   0.0  0.0  0.0  0.0  0.0  0.0\n"
     ]
    },
    {
     "data": {
      "image/png": "[encoded data removed]",
      "text/plain": [
       "<Figure size 720x360 with 2 Axes>"
      ]
     },
     "metadata": {},
     "output_type": "display_data"
    }
   ],
   "source": [
    "show_dist(df_eda, 'count_urls')"
   ]
  },
  {
   "cell_type": "code",
   "execution_count": 68,
   "metadata": {
    "_cell_guid": "69ecdc4f-baf5-41dd-bcd5-f805af43325b",
    "_uuid": "68c73eeb67a2af80619c6dc5493050631d8cabf2"
   },
   "outputs": [
    {
     "name": "stdout",
     "output_type": "stream",
     "text": [
      "Descriptive stats for count_emojis\n",
      "----------------------------------\n",
      "         count  mean  std  min  25%  50%  75%  max\n",
      "Change                                            \n",
      "0.0     2083.0  0.0   0.0  0.0  0.0  0.0  0.0  0.0\n",
      "1.0     2964.0  0.0   0.0  0.0  0.0  0.0  0.0  0.0\n"
     ]
    },
    {
     "data": {
      "image/png": "[encoded data removed]",
      "text/plain": [
       "<Figure size 720x360 with 2 Axes>"
      ]
     },
     "metadata": {},
     "output_type": "display_data"
    }
   ],
   "source": [
    "show_dist(df_eda, 'count_emojis')"
   ]
  },
  {
   "cell_type": "markdown",
   "metadata": {
    "_cell_guid": "9bb024ed-3893-4eb0-b047-54ca1e7bced7",
    "_uuid": "0171d7539984e488d0cf1a3472854c998f58fcce"
   },
   "source": [
    "**CONCLUSIONS: **\n",
    "* **The number of words** used in the headlines is low. Maximum number of words is 2 and there are even headlines with only 2 words. So I'll have to be careful during data cleaning not to remove too many words. On the other hand, the text processing will be faster. Negative Headlines contain a little more words than positive ones.\n",
    "* Most of the Headlines do not contain **capitalized words** and I do not see a difference in distribution between the sentiments.\n",
    "* The positive Headlines seem to be using a bit more **exclamation or question marks**.\n",
    "* Headlines do not contain a **URL** or **Special Characters**"
   ]
  },
  {
   "cell_type": "markdown",
   "metadata": {
    "_cell_guid": "0db65f91-0c7e-4d77-98ab-2b0fff58f855",
    "_uuid": "416159ee3509b0953455c170e20cde4136279765"
   },
   "source": [
    "# Text Cleaning\n",
    "Before we start using the Headlines' text we clean it. We'll do the this in the class CleanText:\n",
    "\n",
    "- set all words to **lowercase**\n",
    "- remove all **punctuations**, including the question and exclamation marks\n",
    "- remove the **urls** as they do not contain useful information and we did not notice a distinction in the number of urls used between the sentiment classes\n",
    "- remove **digits**\n",
    "- remove **stopwords**\n",
    "- apply the **PorterStemmer** to keep the stem of the words"
   ]
  },
  {
   "cell_type": "code",
   "execution_count": 69,
   "metadata": {
    "_cell_guid": "fe4f4723-ac9b-4e46-88d6-4631a961c7e7",
    "_uuid": "b0f586110aa644f90b64b95de139ec0697ac44a1"
   },
   "outputs": [],
   "source": [
    "class CleanText(BaseEstimator, TransformerMixin):\n",
    "   \n",
    "    def remove_mentions(self, input_text):\n",
    "        return re.sub(r'@\\w+', '', input_text)\n",
    "    \n",
    "    def remove_urls(self, input_text):\n",
    "        return re.sub(r'http.?://[^\\s]+[\\s]?', '', input_text)\n",
    "    \n",
    "    def emoji_oneword(self, input_text):\n",
    "        # By compressing the underscore, the emoji is kept as one word\n",
    "        return input_text.replace('_','')\n",
    "    \n",
    "    def remove_punctuation(self, input_text):\n",
    "        # Make translation table\n",
    "        punct = string.punctuation\n",
    "        trantab = str.maketrans(punct, len(punct)*' ')  # Every punctuation symbol will be replaced by a space\n",
    "        return input_text.translate(trantab)\n",
    "\n",
    "    def remove_digits(self, input_text):\n",
    "        return re.sub('\\d+', '', input_text)\n",
    "    \n",
    "    def to_lower(self, input_text):\n",
    "        return input_text.lower()\n",
    "    \n",
    "    def remove_stopwords(self, input_text):\n",
    "        stopwords_list = stopwords.words('english')\n",
    "        # Some words which might indicate a certain sentiment are kept via a whitelist\n",
    "        whitelist = [\"n't\", \"not\", \"no\"]\n",
    "        words = input_text.split() \n",
    "        clean_words = [word for word in words if (word not in stopwords_list or word in whitelist) and len(word) > 1] \n",
    "        return \" \".join(clean_words) \n",
    "    \n",
    "    def stemming(self, input_text):\n",
    "        porter = PorterStemmer()\n",
    "        words = input_text.split() \n",
    "        stemmed_words = [porter.stem(word) for word in words]\n",
    "        return \" \".join(stemmed_words)\n",
    "    \n",
    "    def fit(self, X, y=None, **fit_params):\n",
    "        return self\n",
    "    \n",
    "    def transform(self, X, **transform_params):\n",
    "        clean_X = X.apply(self.remove_mentions).apply(self.remove_urls).apply(self.emoji_oneword).apply(self.remove_punctuation).apply(self.remove_digits).apply(self.to_lower).apply(self.remove_stopwords).apply(self.stemming)\n",
    "        return clean_X"
   ]
  },
  {
   "cell_type": "markdown",
   "metadata": {
    "_cell_guid": "267c43d4-f2f0-4533-8e77-33c14243b7af",
    "_uuid": "9090e16587d44743366073e753e3cd06898095d2"
   },
   "source": [
    "To show how the cleaned text variable will look like, here's a sample."
   ]
  },
  {
   "cell_type": "code",
   "execution_count": 71,
   "metadata": {
    "_cell_guid": "b8a27b57-3955-4e97-96f1-01f9c84dc8d4",
    "_uuid": "97369e87f093479687791ee7dcb1bb3b69c30218"
   },
   "outputs": [
    {
     "data": {
      "text/plain": [
       "1533    california lawmak give amazon tax repriev           \n",
       "4613    ye facebook friend ask money                        \n",
       "4616    facebook overhaul news feed focu friend famili share\n",
       "1329    googl could search twitter would find topsi         \n",
       "1143    critic googl antitrust rule fault focu              \n",
       "Name: Headline, dtype: object"
      ]
     },
     "execution_count": 71,
     "metadata": {},
     "output_type": "execute_result"
    }
   ],
   "source": [
    "ct = CleanText()\n",
    "sr_clean = ct.fit_transform(df.Headline)\n",
    "sr_clean.sample(5)"
   ]
  },
  {
   "cell_type": "markdown",
   "metadata": {
    "_cell_guid": "da0be13b-9e22-4709-b83a-a451fb2f5569",
    "_uuid": "d4ceed8983cca2c30af7eedf346400c859ed15e0"
   },
   "source": [
    "**NOTE: **One side-effect of text cleaning is that some rows do not have any words left in their text. For the CountVectorizer and TfIdfVectorizer this does not really pose a problem. However, for the Word2Vec algorithm this causes an error. There are different strategies that you could apply to deal with these missing values.\n",
    "\n",
    "* Remove the complete row, but in a production environment this is not really desirable.\n",
    "* Impute the missing value with some placeholder text like *[no_text]*\n",
    "* Word2Vec: use the average of all vectors\n",
    "\n",
    "Here we will impute with a placeholder text."
   ]
  },
  {
   "cell_type": "code",
   "execution_count": 72,
   "metadata": {
    "_cell_guid": "11567bee-dad6-4809-b4d6-a3203821c779",
    "_uuid": "bba4e68eb15ae8eab41869a3403e910a763ac486"
   },
   "outputs": [
    {
     "name": "stdout",
     "output_type": "stream",
     "text": [
      "0 records have no words left after text cleaning\n"
     ]
    }
   ],
   "source": [
    "empty_clean = sr_clean == ''\n",
    "print('{} records have no words left after text cleaning'.format(sr_clean[empty_clean].count()))\n",
    "sr_clean.loc[empty_clean] = '[no_text]'"
   ]
  },
  {
   "cell_type": "markdown",
   "metadata": {
    "_cell_guid": "84c1dc74-508b-4c55-ab34-ada314997a02",
    "_uuid": "d54ce955f07356f7cfe32960987ed86479a22d21"
   },
   "source": [
    "Now that we have the cleaned text of the tweets, we can have a look at what are the most frequent words. Below we'll show the top 20 words. \n",
    "\n",
    "**CONCLUSION: **Not surprisingly the most frequent word is *facebook* and other stocks."
   ]
  },
  {
   "cell_type": "code",
   "execution_count": 74,
   "metadata": {
    "_cell_guid": "6e8f0c19-8f1c-4d0d-9156-17a67d9d50d2",
    "_uuid": "99669d586ab45ffef74b67125503ad6314722fea"
   },
   "outputs": [
    {
     "name": "stdout",
     "output_type": "stream",
     "text": [
      "         word  freq\n",
      "0   facebook   1603\n",
      "1   googl      1347\n",
      "2   amazon     1264\n",
      "3   microsoft  778 \n",
      "4   new        327 \n",
      "5   report     257 \n",
      "6   daili      217 \n",
      "7   deal       202 \n",
      "8   brief      135 \n",
      "9   privaci    127 \n",
      "10  data       125 \n",
      "11  search     123 \n",
      "12  appl       121 \n",
      "13  ad         118 \n",
      "14  today      111 \n",
      "15  say        110 \n",
      "16  app        101 \n",
      "17  tech       101 \n",
      "18  take       98  \n",
      "19  make       96  \n"
     ]
    },
    {
     "data": {
      "image/png": "[encoded data removed]",
      "text/plain": [
       "<Figure size 864x720 with 1 Axes>"
      ]
     },
     "metadata": {},
     "output_type": "display_data"
    }
   ],
   "source": [
    "cv = CountVectorizer()\n",
    "bow = cv.fit_transform(sr_clean)\n",
    "word_freq = dict(zip(cv.get_feature_names(), np.asarray(bow.sum(axis=0)).ravel()))\n",
    "word_counter = collections.Counter(word_freq)\n",
    "word_counter_df = pd.DataFrame(word_counter.most_common(20), columns = ['word', 'freq'])\n",
    "#print(word_counter_df)\n",
    "fig, ax = plt.subplots(figsize=(12, 10))\n",
    "bar_freq_word = sns.barplot(x=\"word\", y=\"freq\", data=word_counter_df, palette=\"PuBuGn_d\", ax=ax)\n",
    "plt.show();\n",
    "#if not KAGGLE_ENV: bar_freq_word.get_figure().savefig('../output/bar_freq_word.png')"
   ]
  },
  {
   "cell_type": "markdown",
   "metadata": {
    "_cell_guid": "18b10489-d892-40cc-8f71-35885a5caaed",
    "_uuid": "eb870c8e3c36854c60282c30b1e3fb091e769329"
   },
   "source": [
    "# Creating test data\n",
    "To evaluate the trained models we'll need a **test set**. Evaluating on the train data would not be correct because the models are trained to minimize their cost function. \n",
    "\n",
    "First combine the TextCounts variables with the CleanText variable.\n",
    "\n"
   ]
  },
  {
   "cell_type": "code",
   "execution_count": 79,
   "metadata": {
    "_cell_guid": "ccee501f-44a6-4f0d-9b6a-6bdf8713dd12",
    "_uuid": "ff3f7a17f2b17fbfd43c24f33a061446fb502ca8"
   },
   "outputs": [
    {
     "data": {
      "text/plain": [
       "['count_words',\n",
       " 'count_capital_words',\n",
       " 'count_excl_quest_marks',\n",
       " 'count_urls',\n",
       " 'count_emojis',\n",
       " 'Change',\n",
       " 'clean_text']"
      ]
     },
     "execution_count": 79,
     "metadata": {},
     "output_type": "execute_result"
    }
   ],
   "source": [
    "df_model = df_eda\n",
    "df_model['clean_text'] = sr_clean\n",
    "df_model.columns.tolist()\n"
   ]
  },
  {
   "cell_type": "markdown",
   "metadata": {
    "_cell_guid": "509efba0-9d31-4c85-aef3-613cd1c6b17f",
    "_uuid": "79267622616a04aff402157783c5ed13a911dca6"
   },
   "source": [
    "So df_model now contains several variables. However, our vectorizers (see below) will only need the *clean_text* variable. The TextCounts variables can be added as such. To specifically select columns, the class **ColumnExtractor** is below . This can be used in the Pipeline afterwards."
   ]
  },
  {
   "cell_type": "code",
   "execution_count": 80,
   "metadata": {
    "_cell_guid": "b9b66faf-2fc6-4c50-9e1f-89b8dc5df13a",
    "_uuid": "b6354efffb71c5a998ddf7f206aebd6c3324c117"
   },
   "outputs": [],
   "source": [
    "class ColumnExtractor(TransformerMixin, BaseEstimator):\n",
    "    def __init__(self, cols):\n",
    "        self.cols = cols\n",
    "\n",
    "    def transform(self, X, **transform_params):\n",
    "        return X[self.cols]\n",
    "\n",
    "    def fit(self, X, y=None, **fit_params):\n",
    "        return self"
   ]
  },
  {
   "cell_type": "code",
   "execution_count": 81,
   "metadata": {
    "_cell_guid": "df742ade-52d3-4b47-80b0-1f7cc26545eb",
    "_uuid": "6ab9296159749e4525244fae6d6f4e6a37121c93"
   },
   "outputs": [],
   "source": [
    "X_train, X_test, y_train, y_test = train_test_split(df_model.drop('Change', axis=1), df_model.Change, test_size=0.1, random_state=37)"
   ]
  },
  {
   "cell_type": "markdown",
   "metadata": {
    "_cell_guid": "a636aca6-1eed-4b59-ac7a-61b1cbcf10d6",
    "_uuid": "556b12393f591c21ac439bf3a0a9b7cf2fbbfd5b"
   },
   "source": [
    "## Hyperparameter tuning and cross-validation\n",
    "The vectorizers and classifiers all have configurable parameters. In order to chose the best parameters, we need to evaluate on a separate validation set that was not used during the training. However, using only one validation set may not produce reliable validation results. Due to chance you might have a good model performance on the validation set. If we split the data otherwise, you might end up with other results. To get a more accurate estimation, I perform **cross-validation**. \n",
    "\n",
    "With cross-validation the data is split into a train and validation set multiple times. The evaluation metric is then averaged over the different folds. GridSearchCV applies cross-validation out-of-the-box.\n",
    "\n",
    "To find the best parameters for both a vectorizer and classifier, I use a **Pipeline**. All this is put into a function for ease of use.\n",
    "\n",
    "### Evaluation metrics\n",
    "By default GridSearchCV uses the default scorer to compute the *best_score_*. For both the MultiNomialNb (NaiveBayes) and LogisticRegression this default scoring metric is the accuracy. \n",
    "\n",
    "In the function *grid_vect* I additionally generate the *classification_report* on the test data. This provides some interesting metrics **per target class**, which might be more appropriate here. These metrics are the **precision, recal and F1 score.**\n",
    "\n",
    "* **Precision: ** Of all rows we predicted to be a certain class, how many did we correctly predict?\n",
    "* **Recall: ** Of all rows of a certain class, how many did we correctly predict?\n",
    "* **F1 score: ** Harmonic mean of Precision and Recall.\n",
    "\n",
    "Precision and Recall can be calculated with the elements of the [confusion matrix](https://en.wikipedia.org/wiki/Confusion_matrix)"
   ]
  },
  {
   "cell_type": "code",
   "execution_count": 82,
   "metadata": {
    "_cell_guid": "087a0727-fac6-4415-a8a0-b0c82df63903",
    "_uuid": "c4e69eaf67e587b05ca4e8da2bdecfbff8932e06"
   },
   "outputs": [],
   "source": [
    "# Based on http://scikit-learn.org/stable/auto_examples/model_selection/grid_search_text_feature_extraction.html\n",
    "def grid_vect(clf, parameters_clf, X_train, X_test, parameters_text=None, vect=None, is_w2v=False):\n",
    "    \n",
    "   # textcountscols = ['count_capital_words','count_emojis','count_excl_quest_marks','count_hashtags'\n",
    "    #                  ,'count_mentions','count_urls','count_words']\n",
    "    textcountscols = ['count_words']\n",
    "    \n",
    "    \n",
    "    if is_w2v:\n",
    "        w2vcols = []\n",
    "        for i in range(SIZE):\n",
    "            w2vcols.append(i)\n",
    "        features = FeatureUnion([('textcounts', ColumnExtractor(cols=textcountscols))\n",
    "                                 , ('w2v', ColumnExtractor(cols=w2vcols))]\n",
    "                                , n_jobs=1)\n",
    "    else:\n",
    "        features = FeatureUnion([('textcounts', ColumnExtractor(cols=textcountscols))\n",
    "                                 , ('pipe', Pipeline([('cleantext', ColumnExtractor(cols='clean_text')), ('vect', vect)]))]\n",
    "                                , n_jobs=1)\n",
    "\n",
    "    \n",
    "    pipeline = Pipeline([\n",
    "        ('features', features)\n",
    "        , ('clf', clf)\n",
    "    ])\n",
    "    \n",
    "    # Join the parameters dictionaries together\n",
    "    parameters = dict()\n",
    "    if parameters_text:\n",
    "        parameters.update(parameters_text)\n",
    "    parameters.update(parameters_clf)\n",
    "\n",
    "    # Make sure you have scikit-learn version 0.19 or higher to use multiple scoring metrics\n",
    "    grid_search = GridSearchCV(pipeline, parameters, n_jobs=1, verbose=1, cv=5)\n",
    "    \n",
    "    print(\"Performing grid search...\")\n",
    "    print(\"pipeline:\", [name for name, _ in pipeline.steps])\n",
    "    print(\"parameters:\")\n",
    "    pprint(parameters)\n",
    "\n",
    "    t0 = time()\n",
    "    grid_search.fit(X_train, y_train)\n",
    "    print(\"done in %0.3fs\" % (time() - t0))\n",
    "    print()\n",
    "\n",
    "    print(\"Best CV score: %0.3f\" % grid_search.best_score_)\n",
    "    print(\"Best parameters set:\")\n",
    "    best_parameters = grid_search.best_estimator_.get_params()\n",
    "    for param_name in sorted(parameters.keys()):\n",
    "        print(\"\\t%s: %r\" % (param_name, best_parameters[param_name]))\n",
    "        \n",
    "    print(\"Test score with best_estimator_: %0.3f\" % grid_search.best_estimator_.score(X_test, y_test))\n",
    "    print(\"\\n\")\n",
    "    print(\"Classification Report Test Data\")\n",
    "    print(classification_report(y_test, grid_search.best_estimator_.predict(X_test)))\n",
    "                        \n",
    "    return grid_search"
   ]
  },
  {
   "cell_type": "markdown",
   "metadata": {
    "_cell_guid": "01574750-6449-4965-9dfd-3d0ac5ccc34e",
    "_uuid": "0e8f816603ce6030c8ea9d49783701e897db1688"
   },
   "source": [
    "### Parameter grids for GridSearchCV"
   ]
  },
  {
   "cell_type": "code",
   "execution_count": 83,
   "metadata": {
    "_cell_guid": "9212c557-3369-41ba-9162-742fa60eb17e",
    "_uuid": "193739bf202f607a7f6807738fe4c398af49f5e3"
   },
   "outputs": [],
   "source": [
    "# Parameter grid settings for the vectorizers (Count and TFIDF)\n",
    "parameters_vect = {\n",
    "    'features__pipe__vect__max_df': (0.25, 0.5, 0.75),\n",
    "    'features__pipe__vect__ngram_range': ((1, 1), (1, 2)),\n",
    "    'features__pipe__vect__min_df': (1,2)\n",
    "}\n",
    "\n",
    "\n",
    "# Parameter grid settings for MultinomialNB\n",
    "parameters_mnb = {\n",
    "    'clf__alpha': (0.25, 0.5, 0.75)\n",
    "}\n",
    "\n",
    "\n",
    "# Parameter grid settings for LogisticRegression\n",
    "parameters_logreg = {\n",
    "    'clf__C': (0.25, 0.5, 1.0),\n",
    "    'clf__penalty': ('l1', 'l2')\n",
    "}"
   ]
  },
  {
   "cell_type": "markdown",
   "metadata": {
    "_cell_guid": "8793746e-2824-4070-a65d-e9657be8346a",
    "_uuid": "0460417e826faaec6753c344d184415775afbf7f"
   },
   "source": [
    "## Classifiers\n",
    "Here we will compare the performance of a MultinomailNB and LogisticRegression."
   ]
  },
  {
   "cell_type": "code",
   "execution_count": 84,
   "metadata": {
    "_cell_guid": "36321c02-35d4-4251-8191-6d470bad1a46",
    "_uuid": "008942f2740a960f69ef61eb9b7eade21609104c"
   },
   "outputs": [],
   "source": [
    "mnb = MultinomialNB()\n",
    "logreg = LogisticRegression()"
   ]
  },
  {
   "cell_type": "markdown",
   "metadata": {
    "_cell_guid": "cb2dc7e1-0a2c-4e10-b98d-de222e0646a4",
    "_uuid": "c21acf0845975a8bb319a41826499742d229999d"
   },
   "source": [
    "## CountVectorizer\n",
    "To use words in a classifier, we need to convert the words to numbers. This can be done with a CountVectorizer. Sklearn's **CountVectorizer** takes all words in all headlines, assigns an ID and counts the frequency of the word per headline. This *bag of words* can then be used as input for a classifier. It is what is called a **sparse** data set, meaning that each record will have many zeroes for the words not occurring in the headline."
   ]
  },
  {
   "cell_type": "code",
   "execution_count": 85,
   "metadata": {
    "_cell_guid": "de29adfc-1c07-4feb-8c91-c9899cb2808e",
    "_uuid": "c3df430fa01c37c4545c5051eba607a42727786d"
   },
   "outputs": [],
   "source": [
    "countvect = CountVectorizer()"
   ]
  },
  {
   "cell_type": "code",
   "execution_count": 86,
   "metadata": {
    "_cell_guid": "afb5ec51-b86f-40bf-ab9d-3371c4a90d92",
    "_uuid": "7b430d09e131f7f62d528d471c7eb8f8445b7dba"
   },
   "outputs": [
    {
     "name": "stdout",
     "output_type": "stream",
     "text": [
      "Performing grid search...\n",
      "pipeline: ['features', 'clf']\n",
      "parameters:\n",
      "{'clf__alpha': (0.25, 0.5, 0.75),\n",
      " 'features__pipe__vect__max_df': (0.25, 0.5, 0.75),\n",
      " 'features__pipe__vect__min_df': (1, 2),\n",
      " 'features__pipe__vect__ngram_range': ((1, 1), (1, 2))}\n",
      "Fitting 5 folds for each of 36 candidates, totalling 180 fits\n"
     ]
    },
    {
     "name": "stderr",
     "output_type": "stream",
     "text": [
      "[Parallel(n_jobs=1)]: Using backend SequentialBackend with 1 concurrent workers.\n",
      "[Parallel(n_jobs=1)]: Done 180 out of 180 | elapsed:   31.7s finished\n"
     ]
    },
    {
     "name": "stdout",
     "output_type": "stream",
     "text": [
      "done in 32.008s\n",
      "\n",
      "Best CV score: 0.614\n",
      "Best parameters set:\n",
      "\tclf__alpha: 0.75\n",
      "\tfeatures__pipe__vect__max_df: 0.5\n",
      "\tfeatures__pipe__vect__min_df: 1\n",
      "\tfeatures__pipe__vect__ngram_range: (1, 2)\n",
      "Test score with best_estimator_: 0.576\n",
      "\n",
      "\n",
      "Classification Report Test Data\n",
      "              precision    recall  f1-score   support\n",
      "\n",
      "         0.0       0.55      0.26      0.36       225\n",
      "         1.0       0.58      0.83      0.68       280\n",
      "\n",
      "   micro avg       0.58      0.58      0.58       505\n",
      "   macro avg       0.57      0.55      0.52       505\n",
      "weighted avg       0.57      0.58      0.54       505\n",
      "\n"
     ]
    }
   ],
   "source": [
    "# MultinomialNB\n",
    "best_mnb_countvect = grid_vect(mnb, parameters_mnb, X_train, X_test, parameters_text=parameters_vect, vect=countvect)\n",
    "#if not KAGGLE_ENV: joblib.dump(best_mnb_countvect, '../output/best_mnb_countvect.pkl')"
   ]
  },
  {
   "cell_type": "code",
   "execution_count": 87,
   "metadata": {
    "_cell_guid": "542fc0be-11a4-41a4-8c81-2cd424dd4d69",
    "_uuid": "036edeb05520a608a42eec7342234683ae711eaa"
   },
   "outputs": [
    {
     "name": "stdout",
     "output_type": "stream",
     "text": [
      "Performing grid search...\n",
      "pipeline: ['features', 'clf']\n",
      "parameters:\n",
      "{'clf__C': (0.25, 0.5, 1.0),\n",
      " 'clf__penalty': ('l1', 'l2'),\n",
      " 'features__pipe__vect__max_df': (0.25, 0.5, 0.75),\n",
      " 'features__pipe__vect__min_df': (1, 2),\n",
      " 'features__pipe__vect__ngram_range': ((1, 1), (1, 2))}\n",
      "Fitting 5 folds for each of 72 candidates, totalling 360 fits\n"
     ]
    },
    {
     "name": "stderr",
     "output_type": "stream",
     "text": [
      "[Parallel(n_jobs=1)]: Using backend SequentialBackend with 1 concurrent workers.\n",
      "[Parallel(n_jobs=1)]: Done 360 out of 360 | elapsed:  1.2min finished\n"
     ]
    },
    {
     "name": "stdout",
     "output_type": "stream",
     "text": [
      "done in 69.449s\n",
      "\n",
      "Best CV score: 0.607\n",
      "Best parameters set:\n",
      "\tclf__C: 0.25\n",
      "\tclf__penalty: 'l2'\n",
      "\tfeatures__pipe__vect__max_df: 0.5\n",
      "\tfeatures__pipe__vect__min_df: 1\n",
      "\tfeatures__pipe__vect__ngram_range: (1, 2)\n",
      "Test score with best_estimator_: 0.572\n",
      "\n",
      "\n",
      "Classification Report Test Data\n",
      "              precision    recall  f1-score   support\n",
      "\n",
      "         0.0       0.54      0.27      0.36       225\n",
      "         1.0       0.58      0.81      0.68       280\n",
      "\n",
      "   micro avg       0.57      0.57      0.57       505\n",
      "   macro avg       0.56      0.54      0.52       505\n",
      "weighted avg       0.56      0.57      0.54       505\n",
      "\n"
     ]
    }
   ],
   "source": [
    "# LogisticRegression\n",
    "best_logreg_countvect = grid_vect(logreg, parameters_logreg, X_train, X_test, parameters_text=parameters_vect, vect=countvect)\n",
    "#if not KAGGLE_ENV: joblib.dump(best_logreg_countvect, '../output/best_logreg_countvect.pkl')"
   ]
  },
  {
   "cell_type": "markdown",
   "metadata": {
    "_cell_guid": "dbaf51ca-906d-4af1-9055-22c791f6de07",
    "_uuid": "fa577f613aafd434a375502edaa66d3ceca23aaa"
   },
   "source": [
    "## TF-IDF\n",
    "One issue with CountVectorizer is that there might be words that occur frequently in observations of the target classes. These words do not have discriminatory information and can be removed. [TF-IDF (term frequency - inverse document frequency)](https://en.wikipedia.org/wiki/Tf%E2%80%93idf) can be used to downweight these frequent words."
   ]
  },
  {
   "cell_type": "code",
   "execution_count": 88,
   "metadata": {
    "_cell_guid": "1f7ed46a-4f7b-4671-b77d-1fd800dc2b15",
    "_uuid": "0c5279535d8dacb86b3560eb3257a548e9837126"
   },
   "outputs": [],
   "source": [
    "tfidfvect = TfidfVectorizer()"
   ]
  },
  {
   "cell_type": "code",
   "execution_count": 89,
   "metadata": {
    "_cell_guid": "4892673a-2f32-4c60-ae60-4c38f6f95285",
    "_uuid": "f9c84cb6a4c16d9fd850f1d94ecdb63f3f351c16"
   },
   "outputs": [
    {
     "name": "stdout",
     "output_type": "stream",
     "text": [
      "Performing grid search...\n",
      "pipeline: ['features', 'clf']\n",
      "parameters:\n",
      "{'clf__alpha': (0.25, 0.5, 0.75),\n",
      " 'features__pipe__vect__max_df': (0.25, 0.5, 0.75),\n",
      " 'features__pipe__vect__min_df': (1, 2),\n",
      " 'features__pipe__vect__ngram_range': ((1, 1), (1, 2))}\n",
      "Fitting 5 folds for each of 36 candidates, totalling 180 fits\n"
     ]
    },
    {
     "name": "stderr",
     "output_type": "stream",
     "text": [
      "[Parallel(n_jobs=1)]: Using backend SequentialBackend with 1 concurrent workers.\n",
      "[Parallel(n_jobs=1)]: Done 180 out of 180 | elapsed:   33.4s finished\n"
     ]
    },
    {
     "name": "stdout",
     "output_type": "stream",
     "text": [
      "done in 33.722s\n",
      "\n",
      "Best CV score: 0.615\n",
      "Best parameters set:\n",
      "\tclf__alpha: 0.25\n",
      "\tfeatures__pipe__vect__max_df: 0.25\n",
      "\tfeatures__pipe__vect__min_df: 1\n",
      "\tfeatures__pipe__vect__ngram_range: (1, 2)\n",
      "Test score with best_estimator_: 0.568\n",
      "\n",
      "\n",
      "Classification Report Test Data\n",
      "              precision    recall  f1-score   support\n",
      "\n",
      "         0.0       0.54      0.21      0.31       225\n",
      "         1.0       0.57      0.85      0.69       280\n",
      "\n",
      "   micro avg       0.57      0.57      0.57       505\n",
      "   macro avg       0.56      0.53      0.50       505\n",
      "weighted avg       0.56      0.57      0.52       505\n",
      "\n"
     ]
    }
   ],
   "source": [
    "# MultinomialNB\n",
    "best_mnb_tfidf = grid_vect(mnb, parameters_mnb, X_train, X_test, parameters_text=parameters_vect, vect=tfidfvect)\n",
    "#if not KAGGLE_ENV: joblib.dump(best_mnb_tfidf, '../output/best_mnb_tfidf.pkl')"
   ]
  },
  {
   "cell_type": "code",
   "execution_count": 90,
   "metadata": {
    "_cell_guid": "214a2383-9cb8-4d90-a326-f3018118ffff",
    "_uuid": "95e60d825eb7f71de879ed3dcb54feaae461d2f9"
   },
   "outputs": [
    {
     "name": "stdout",
     "output_type": "stream",
     "text": [
      "Performing grid search...\n",
      "pipeline: ['features', 'clf']\n",
      "parameters:\n",
      "{'clf__C': (0.25, 0.5, 1.0),\n",
      " 'clf__penalty': ('l1', 'l2'),\n",
      " 'features__pipe__vect__max_df': (0.25, 0.5, 0.75),\n",
      " 'features__pipe__vect__min_df': (1, 2),\n",
      " 'features__pipe__vect__ngram_range': ((1, 1), (1, 2))}\n",
      "Fitting 5 folds for each of 72 candidates, totalling 360 fits\n"
     ]
    },
    {
     "name": "stderr",
     "output_type": "stream",
     "text": [
      "[Parallel(n_jobs=1)]: Using backend SequentialBackend with 1 concurrent workers.\n",
      "[Parallel(n_jobs=1)]: Done 360 out of 360 | elapsed:  1.3min finished\n"
     ]
    },
    {
     "name": "stdout",
     "output_type": "stream",
     "text": [
      "done in 76.061s\n",
      "\n",
      "Best CV score: 0.609\n",
      "Best parameters set:\n",
      "\tclf__C: 1.0\n",
      "\tclf__penalty: 'l2'\n",
      "\tfeatures__pipe__vect__max_df: 0.5\n",
      "\tfeatures__pipe__vect__min_df: 1\n",
      "\tfeatures__pipe__vect__ngram_range: (1, 2)\n",
      "Test score with best_estimator_: 0.560\n",
      "\n",
      "\n",
      "Classification Report Test Data\n",
      "              precision    recall  f1-score   support\n",
      "\n",
      "         0.0       0.52      0.21      0.30       225\n",
      "         1.0       0.57      0.84      0.68       280\n",
      "\n",
      "   micro avg       0.56      0.56      0.56       505\n",
      "   macro avg       0.54      0.53      0.49       505\n",
      "weighted avg       0.55      0.56      0.51       505\n",
      "\n"
     ]
    }
   ],
   "source": [
    "# LogisticRegression\n",
    "best_logreg_tfidf = grid_vect(logreg, parameters_logreg, X_train, X_test, parameters_text=parameters_vect, vect=tfidfvect)\n",
    "#if not KAGGLE_ENV: joblib.dump(best_logreg_tfidf, '../output/best_logreg_tfidf.pkl')"
   ]
  },
  {
   "cell_type": "markdown",
   "metadata": {
    "_cell_guid": "eabc2c85-1c0e-4f10-a86b-8e9a9010b013",
    "_uuid": "d0f95a5ca1fc981f625bcfabad73ab23aaf3c4dc"
   },
   "source": [
    "## Word2Vec\n",
    "Another way of converting the words in the tweets to numerical values can be achieved with Word2Vec. Word2Vec maps each word in a multi-dimensional space. It does this by taking into account the context in which a word appears in the tweets. As a result, words that are semantically similar are also close to each other in the multi-dimensional space. \n",
    "\n",
    "The Word2Vec algorithm is implemented in the [gensim](https://radimrehurek.com/gensim/models/word2vec.html) package.\n",
    "\n",
    "The Word2Vec algorithm uses lists of words as input. For that purpose we use the **word_tokenize** method of the the nltk package."
   ]
  },
  {
   "cell_type": "code",
   "execution_count": 92,
   "metadata": {
    "_cell_guid": "15a6a3ce-90d5-4414-b2b6-4d2c64317fa6",
    "_uuid": "c025fc3ca889f327166163c06ed3bdc4b7d0693e"
   },
   "outputs": [],
   "source": [
    "SIZE = 25\n",
    "\n",
    "X_train['clean_text_wordlist'] = X_train.clean_text.apply(lambda x : word_tokenize(x))\n",
    "X_test['clean_text_wordlist'] = X_test.clean_text.apply(lambda x : word_tokenize(x))\n",
    "\n",
    "model = gensim.models.Word2Vec(X_train.clean_text_wordlist\n",
    "                 , min_count=1\n",
    "                 , size=SIZE\n",
    "                 , window=3\n",
    "                 , workers=4)"
   ]
  },
  {
   "cell_type": "code",
   "execution_count": 106,
   "metadata": {
    "_cell_guid": "147ac98f-81f4-4812-b0e6-82be4e62b4f7",
    "_uuid": "2d0e5851469b48ed7aaaa683360a478f7aa68312"
   },
   "outputs": [
    {
     "data": {
      "text/plain": [
       "[('price', 0.9910072088241577),\n",
       " ('million', 0.9906411170959473),\n",
       " ('deal', 0.9905367493629456)]"
      ]
     },
     "execution_count": 106,
     "metadata": {},
     "output_type": "execute_result"
    }
   ],
   "source": [
    "model.most_similar('loss', topn=3)"
   ]
  },
  {
   "cell_type": "markdown",
   "metadata": {
    "_cell_guid": "8ab070a7-f9fb-419e-ae08-8354678b6d44",
    "_uuid": "8d1d10d0ab55e563c21bc2e8fdbf661c85f86861"
   },
   "source": [
    "The Word2Vec model provides a vocabulary of the words in the corpus together with their vector values. The number of vector values is equal to the chosen **size**. These are the dimensions on which each word is mapped in the multi-dimensional space.\n",
    "\n",
    "Words with an occurrence less than **min_count** are not kept in the vocabulary. \n",
    "**NOTE: **A side effect of the **min_count** parameter is that some headlines could have no vector values. This is would be the case when the word(s) in the headline occur in less than *min_count* headlines. Due to the small corpus of headlines, there is a risk of this happening in our case. Therefore we set the min_count value equal to 1.\n",
    "\n",
    "The headlines can have a different number of vectors, depending on the number of words it contains. To use this output for modeling we will aggregate the vectors per headline to have the same number (i.e. *size*) of input variables per headline. Therefore we will take the average of all vectors per headline. We do this with the function **compute_avg_w2v_vector**. In this function we also check whether the words in the headline occur in the vocabulary of the word2vec model. If not, a list filled with 0.0 is returned. Else the average of the word vectors."
   ]
  },
  {
   "cell_type": "code",
   "execution_count": 94,
   "metadata": {
    "_cell_guid": "e3e2cc96-9e47-4008-8dba-4b38b9d56e9a",
    "_uuid": "8f8bb64ea5c614fde257d5598ffe15f96d7d1007"
   },
   "outputs": [],
   "source": [
    "def compute_avg_w2v_vector(w2v_dict, tweet):\n",
    "    list_of_word_vectors = [w2v_dict[w] for w in tweet if w in w2v_dict.vocab.keys()]\n",
    "    \n",
    "    if len(list_of_word_vectors) == 0:\n",
    "        result = [0.0]*SIZE\n",
    "    else:\n",
    "        result = np.sum(list_of_word_vectors, axis=0) / len(list_of_word_vectors)\n",
    "        \n",
    "    return result"
   ]
  },
  {
   "cell_type": "code",
   "execution_count": 95,
   "metadata": {
    "_cell_guid": "a565bf07-dc13-47c4-b15a-34d76b4f9709",
    "_uuid": "c4ef3f27b39715b2b6c8d1b8097247df8be17c49"
   },
   "outputs": [],
   "source": [
    "X_train_w2v = X_train['clean_text_wordlist'].apply(lambda x: compute_avg_w2v_vector(model.wv, x))\n",
    "X_test_w2v = X_test['clean_text_wordlist'].apply(lambda x: compute_avg_w2v_vector(model.wv, x))"
   ]
  },
  {
   "cell_type": "markdown",
   "metadata": {
    "_cell_guid": "9960b357-36b9-464f-ab9b-847c1c2b94e4",
    "_uuid": "da4f8b5208928a33b11a695cf632ca48312b9914"
   },
   "source": [
    "This gives us a Series with a vector of dimension equal to SIZE. Now we will split this vector and create a DataFrame with each vector value in a separate column. That way we can concatenate the word2vec variables to the other TextCounts variables. We need to reuse the index of X_train and X_test respectively. Otherwise this will give issues (duplicates) in the concatenation later on."
   ]
  },
  {
   "cell_type": "code",
   "execution_count": 96,
   "metadata": {
    "_cell_guid": "8a4fdcd5-c7ca-4466-9cb3-4bf4bd9168a8",
    "_uuid": "2e179a61852c0104fa69778da4112458947df849"
   },
   "outputs": [],
   "source": [
    "X_train_w2v = pd.DataFrame(X_train_w2v.values.tolist(), index= X_train.index)\n",
    "X_test_w2v = pd.DataFrame(X_test_w2v.values.tolist(), index= X_test.index)\n",
    "\n",
    "# Concatenate with the TextCounts variables\n",
    "X_train_w2v = pd.concat([X_train_w2v, X_train.drop(['clean_text', 'clean_text_wordlist'], axis=1)], axis=1)\n",
    "X_test_w2v = pd.concat([X_test_w2v, X_test.drop(['clean_text', 'clean_text_wordlist'], axis=1)], axis=1)"
   ]
  },
  {
   "cell_type": "markdown",
   "metadata": {
    "_cell_guid": "bd3dcab9-7142-4ad8-92ee-c3d38b3ed728",
    "_uuid": "a7af9c05fc41ff9e21b4eaf14a29896ea894cb42"
   },
   "source": []
  },
  {
   "cell_type": "code",
   "execution_count": 97,
   "metadata": {
    "_cell_guid": "ec60ef90-c066-4122-8127-f6baae769b82",
    "_uuid": "f3f0f72c6f9026dcbf7968c051e278be6e51c142"
   },
   "outputs": [
    {
     "name": "stdout",
     "output_type": "stream",
     "text": [
      "Performing grid search...\n",
      "pipeline: ['features', 'clf']\n",
      "parameters:\n",
      "{'clf__C': (0.25, 0.5, 1.0), 'clf__penalty': ('l1', 'l2')}\n",
      "Fitting 5 folds for each of 6 candidates, totalling 30 fits\n"
     ]
    },
    {
     "name": "stderr",
     "output_type": "stream",
     "text": [
      "[Parallel(n_jobs=1)]: Using backend SequentialBackend with 1 concurrent workers.\n"
     ]
    },
    {
     "name": "stdout",
     "output_type": "stream",
     "text": [
      "done in 1.340s\n",
      "\n",
      "Best CV score: 0.591\n",
      "Best parameters set:\n",
      "\tclf__C: 0.5\n",
      "\tclf__penalty: 'l1'\n",
      "Test score with best_estimator_: 0.556\n",
      "\n",
      "\n",
      "Classification Report Test Data\n",
      "              precision    recall  f1-score   support\n",
      "\n",
      "         0.0       0.67      0.01      0.02       225\n",
      "         1.0       0.56      1.00      0.71       280\n",
      "\n",
      "   micro avg       0.56      0.56      0.56       505\n",
      "   macro avg       0.61      0.50      0.37       505\n",
      "weighted avg       0.61      0.56      0.40       505\n",
      "\n"
     ]
    },
    {
     "name": "stderr",
     "output_type": "stream",
     "text": [
      "[Parallel(n_jobs=1)]: Done  30 out of  30 | elapsed:    1.2s finished\n"
     ]
    }
   ],
   "source": [
    "best_logreg_w2v = grid_vect(logreg, parameters_logreg, X_train_w2v, X_test_w2v, is_w2v=True)\n"
   ]
  },
  {
   "cell_type": "markdown",
   "metadata": {
    "_cell_guid": "c7477bd7-6d56-4bf2-9449-681b88d148ff",
    "_uuid": "b82428854dd5fc8e830a8c028ecc9d290ae9aefc"
   },
   "source": [
    "## Conclusion\n",
    "* Word2Vec achieve the best results when using the features of the CountVectorizer\n",
    "* Overall, Logistic Regression outperforms the Multinomial Naive Bayes classifier\n",
    "* The best performance on the test set comes from the word2Vec with features from Text. \n",
    "\n",
    "Best parameters:\n",
    "* C value of 1\n",
    "* L2 regularization\n",
    "* max_df: 0.5 or maximum document frequency of 50%.\n",
    "* min_df: 1 or the words need to appear in at least 2 tweets\n",
    "* ngram_range: (1, 2), both single words as bi-grams are used\n",
    "\n",
    "Evaluation metrics:\n",
    "* A **test accuracy** of 81,3%, which is better than what we would achieve by setting the prediction for all observations to the majority class (*negative* which would give 63% accuracy).\n",
    "* The **Precision** is rather high for all three classes. For instance, of all cases that we predict as negative, 80% is indeed negative.\n",
    "* The **Recall** for the neutral class is low. Of all neutral cases in our test data, we only predict 48% as being neutral."
   ]
  },
  {
   "cell_type": "markdown",
   "metadata": {
    "_cell_guid": "636eb271-dd42-45b9-be15-f2eebdcbacc6",
    "_uuid": "ff1a35d16acc301b686083679d0f1c1abcff1467"
   },
   "source": [
    "# Apply the best model on new Headlines\n",
    "=\n",
    "\n",
    "Thanks to the GridSearchCV, I now know what are the best hyperparameters. So now I can train the best model on **all training data**, including the test data that we split off before."
   ]
  },
  {
   "cell_type": "code",
   "execution_count": 107,
   "metadata": {
    "_cell_guid": "09062c4d-74af-4666-ad5b-7a4fdd5d1609",
    "_uuid": "85c665cf6d49f4c6d9ce9d317b59edcd8e99421c"
   },
   "outputs": [],
   "source": [
    "textcountscols = ['count_words']\n",
    "    \n",
    "features = FeatureUnion([('textcounts', ColumnExtractor(cols=textcountscols))\n",
    "                         , ('pipe', Pipeline([('cleantext', ColumnExtractor(cols='clean_text'))\n",
    "                                              , ('vect', CountVectorizer(max_df=0.5, min_df=1, ngram_range=(1,2)))]))]\n",
    "                       , n_jobs=1)\n",
    "\n",
    "pipeline = Pipeline([\n",
    "    ('features', features)\n",
    "    , ('clf', LogisticRegression(C=1.0, penalty='l2'))\n",
    "])\n",
    "\n",
    "best_model = pipeline.fit(df_model.drop('Change', axis=1), df_model.Change)"
   ]
  },
  {
   "cell_type": "code",
   "execution_count": 114,
   "metadata": {
    "_cell_guid": "8e3721bb-0c96-427f-ae08-b7d7f0be38ba",
    "_uuid": "4faacdd241c5bc7801da69d07dc2cd45fde6a333"
   },
   "outputs": [
    {
     "data": {
      "text/plain": [
       "[0.0, 1.0]"
      ]
     },
     "execution_count": 114,
     "metadata": {},
     "output_type": "execute_result"
    }
   ],
   "source": [
    "new_data = pd.Series(['google loss','google won award rise launch new']) #Eg\n",
    "\n",
    "df_counts_pos = tc.transform(new_data)\n",
    "df_clean_pos = ct.transform(new_data)\n",
    "df_model_pos = df_counts_pos\n",
    "df_model_pos['clean_text'] = df_clean_pos\n",
    "\n",
    "best_model.predict(df_model_pos).tolist()"
   ]
  },
  {
   "cell_type": "code",
   "execution_count": null,
   "metadata": {},
   "outputs": [],
   "source": []
  }
 ],
 "metadata": {
  "kernelspec": {
   "display_name": "Python 3",
   "language": "python",
   "name": "python3"
  },
  "language_info": {
   "codemirror_mode": {
    "name": "ipython",
    "version": 3
   },
   "file_extension": ".py",
   "mimetype": "text/x-python",
   "name": "python",
   "nbconvert_exporter": "python",
   "pygments_lexer": "ipython3",
   "version": "3.6.7"
  }
 },
 "nbformat": 4,
 "nbformat_minor": 1
}
